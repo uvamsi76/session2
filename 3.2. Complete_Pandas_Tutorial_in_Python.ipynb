{
  "cells": [
    {
      "cell_type": "markdown",
      "metadata": {
        "id": "QR7CFzcSS-q-"
      },
      "source": [
        "Pandas Library:\n",
        "\n",
        "Useful for Data Processing & Analysis"
      ]
    },
    {
      "cell_type": "markdown",
      "metadata": {
        "id": "BfWl5V5MS_7Q"
      },
      "source": [
        "Pandas Data Frame:\n",
        "\n",
        "Pandas DataFrame is two-dimensional tabular data structure with labeled axes (rows and columns)."
      ]
    },
    {
      "cell_type": "code",
      "execution_count": 47,
      "metadata": {
        "id": "MwWJIdvYS3Hy"
      },
      "outputs": [],
      "source": [
        "# importing the pandas library\n",
        "import pandas as pd\n",
        "import numpy as np"
      ]
    },
    {
      "cell_type": "markdown",
      "metadata": {
        "id": "-XnOrvewZc3x"
      },
      "source": [
        "Creaating a Pandas DataFrame"
      ]
    },
    {
      "cell_type": "code",
      "execution_count": 48,
      "metadata": {
        "id": "TKZKbYkuZazV"
      },
      "outputs": [],
      "source": [
        "# importing the boston house price data\n",
        "from sklearn.datasets import load_diabetes as load_boston"
      ]
    },
    {
      "cell_type": "code",
      "execution_count": 49,
      "metadata": {
        "id": "ZmgPwthUZrVB"
      },
      "outputs": [],
      "source": [
        "boston_dataset = load_boston()"
      ]
    },
    {
      "cell_type": "code",
      "execution_count": 50,
      "metadata": {
        "colab": {
          "base_uri": "https://localhost:8080/"
        },
        "id": "kIPGU2IIZv2u",
        "outputId": "ce6e32f6-b5bc-48b8-db97-1a493c305caf"
      },
      "outputs": [
        {
          "data": {
            "text/plain": [
              "sklearn.utils._bunch.Bunch"
            ]
          },
          "execution_count": 50,
          "metadata": {},
          "output_type": "execute_result"
        }
      ],
      "source": [
        "type(boston_dataset)"
      ]
    },
    {
      "cell_type": "code",
      "execution_count": 51,
      "metadata": {
        "colab": {
          "base_uri": "https://localhost:8080/"
        },
        "id": "07ABbvWsZynN",
        "outputId": "0a79fa6e-a294-4ef1-bb85-e8f9a5c22577"
      },
      "outputs": [
        {
          "name": "stdout",
          "output_type": "stream",
          "text": [
            "{'data': array([[ 0.03807591,  0.05068012,  0.06169621, ..., -0.00259226,\n",
            "         0.01990749, -0.01764613],\n",
            "       [-0.00188202, -0.04464164, -0.05147406, ..., -0.03949338,\n",
            "        -0.06833155, -0.09220405],\n",
            "       [ 0.08529891,  0.05068012,  0.04445121, ..., -0.00259226,\n",
            "         0.00286131, -0.02593034],\n",
            "       ...,\n",
            "       [ 0.04170844,  0.05068012, -0.01590626, ..., -0.01107952,\n",
            "        -0.04688253,  0.01549073],\n",
            "       [-0.04547248, -0.04464164,  0.03906215, ...,  0.02655962,\n",
            "         0.04452873, -0.02593034],\n",
            "       [-0.04547248, -0.04464164, -0.0730303 , ..., -0.03949338,\n",
            "        -0.00422151,  0.00306441]]), 'target': array([151.,  75., 141., 206., 135.,  97., 138.,  63., 110., 310., 101.,\n",
            "        69., 179., 185., 118., 171., 166., 144.,  97., 168.,  68.,  49.,\n",
            "        68., 245., 184., 202., 137.,  85., 131., 283., 129.,  59., 341.,\n",
            "        87.,  65., 102., 265., 276., 252.,  90., 100.,  55.,  61.,  92.,\n",
            "       259.,  53., 190., 142.,  75., 142., 155., 225.,  59., 104., 182.,\n",
            "       128.,  52.,  37., 170., 170.,  61., 144.,  52., 128.,  71., 163.,\n",
            "       150.,  97., 160., 178.,  48., 270., 202., 111.,  85.,  42., 170.,\n",
            "       200., 252., 113., 143.,  51.,  52., 210.,  65., 141.,  55., 134.,\n",
            "        42., 111.,  98., 164.,  48.,  96.,  90., 162., 150., 279.,  92.,\n",
            "        83., 128., 102., 302., 198.,  95.,  53., 134., 144., 232.,  81.,\n",
            "       104.,  59., 246., 297., 258., 229., 275., 281., 179., 200., 200.,\n",
            "       173., 180.,  84., 121., 161.,  99., 109., 115., 268., 274., 158.,\n",
            "       107.,  83., 103., 272.,  85., 280., 336., 281., 118., 317., 235.,\n",
            "        60., 174., 259., 178., 128.,  96., 126., 288.,  88., 292.,  71.,\n",
            "       197., 186.,  25.,  84.,  96., 195.,  53., 217., 172., 131., 214.,\n",
            "        59.,  70., 220., 268., 152.,  47.,  74., 295., 101., 151., 127.,\n",
            "       237., 225.,  81., 151., 107.,  64., 138., 185., 265., 101., 137.,\n",
            "       143., 141.,  79., 292., 178.,  91., 116.,  86., 122.,  72., 129.,\n",
            "       142.,  90., 158.,  39., 196., 222., 277.,  99., 196., 202., 155.,\n",
            "        77., 191.,  70.,  73.,  49.,  65., 263., 248., 296., 214., 185.,\n",
            "        78.,  93., 252., 150.,  77., 208.,  77., 108., 160.,  53., 220.,\n",
            "       154., 259.,  90., 246., 124.,  67.,  72., 257., 262., 275., 177.,\n",
            "        71.,  47., 187., 125.,  78.,  51., 258., 215., 303., 243.,  91.,\n",
            "       150., 310., 153., 346.,  63.,  89.,  50.,  39., 103., 308., 116.,\n",
            "       145.,  74.,  45., 115., 264.,  87., 202., 127., 182., 241.,  66.,\n",
            "        94., 283.,  64., 102., 200., 265.,  94., 230., 181., 156., 233.,\n",
            "        60., 219.,  80.,  68., 332., 248.,  84., 200.,  55.,  85.,  89.,\n",
            "        31., 129.,  83., 275.,  65., 198., 236., 253., 124.,  44., 172.,\n",
            "       114., 142., 109., 180., 144., 163., 147.,  97., 220., 190., 109.,\n",
            "       191., 122., 230., 242., 248., 249., 192., 131., 237.,  78., 135.,\n",
            "       244., 199., 270., 164.,  72.,  96., 306.,  91., 214.,  95., 216.,\n",
            "       263., 178., 113., 200., 139., 139.,  88., 148.,  88., 243.,  71.,\n",
            "        77., 109., 272.,  60.,  54., 221.,  90., 311., 281., 182., 321.,\n",
            "        58., 262., 206., 233., 242., 123., 167.,  63., 197.,  71., 168.,\n",
            "       140., 217., 121., 235., 245.,  40.,  52., 104., 132.,  88.,  69.,\n",
            "       219.,  72., 201., 110.,  51., 277.,  63., 118.,  69., 273., 258.,\n",
            "        43., 198., 242., 232., 175.,  93., 168., 275., 293., 281.,  72.,\n",
            "       140., 189., 181., 209., 136., 261., 113., 131., 174., 257.,  55.,\n",
            "        84.,  42., 146., 212., 233.,  91., 111., 152., 120.,  67., 310.,\n",
            "        94., 183.,  66., 173.,  72.,  49.,  64.,  48., 178., 104., 132.,\n",
            "       220.,  57.]), 'frame': None, 'DESCR': '.. _diabetes_dataset:\\n\\nDiabetes dataset\\n----------------\\n\\nTen baseline variables, age, sex, body mass index, average blood\\npressure, and six blood serum measurements were obtained for each of n =\\n442 diabetes patients, as well as the response of interest, a\\nquantitative measure of disease progression one year after baseline.\\n\\n**Data Set Characteristics:**\\n\\n  :Number of Instances: 442\\n\\n  :Number of Attributes: First 10 columns are numeric predictive values\\n\\n  :Target: Column 11 is a quantitative measure of disease progression one year after baseline\\n\\n  :Attribute Information:\\n      - age     age in years\\n      - sex\\n      - bmi     body mass index\\n      - bp      average blood pressure\\n      - s1      tc, total serum cholesterol\\n      - s2      ldl, low-density lipoproteins\\n      - s3      hdl, high-density lipoproteins\\n      - s4      tch, total cholesterol / HDL\\n      - s5      ltg, possibly log of serum triglycerides level\\n      - s6      glu, blood sugar level\\n\\nNote: Each of these 10 feature variables have been mean centered and scaled by the standard deviation times the square root of `n_samples` (i.e. the sum of squares of each column totals 1).\\n\\nSource URL:\\nhttps://www4.stat.ncsu.edu/~boos/var.select/diabetes.html\\n\\nFor more information see:\\nBradley Efron, Trevor Hastie, Iain Johnstone and Robert Tibshirani (2004) \"Least Angle Regression,\" Annals of Statistics (with discussion), 407-499.\\n(https://web.stanford.edu/~hastie/Papers/LARS/LeastAngle_2002.pdf)\\n', 'feature_names': ['age', 'sex', 'bmi', 'bp', 's1', 's2', 's3', 's4', 's5', 's6'], 'data_filename': 'diabetes_data_raw.csv.gz', 'target_filename': 'diabetes_target.csv.gz', 'data_module': 'sklearn.datasets.data'}\n"
          ]
        }
      ],
      "source": [
        "print(boston_dataset)"
      ]
    },
    {
      "cell_type": "code",
      "execution_count": 52,
      "metadata": {
        "id": "L2HrJjGBZ2pn"
      },
      "outputs": [],
      "source": [
        "# pandas DataFrame\n",
        "boston_df = pd.DataFrame(boston_dataset.data, columns = boston_dataset.feature_names)"
      ]
    },
    {
      "cell_type": "code",
      "execution_count": 53,
      "metadata": {
        "colab": {
          "base_uri": "https://localhost:8080/",
          "height": 198
        },
        "id": "PJ9TdbwZamvo",
        "outputId": "e064c2d7-11fc-4e0b-e4d9-274eb2ed8087"
      },
      "outputs": [
        {
          "data": {
            "text/html": [
              "<div>\n",
              "<style scoped>\n",
              "    .dataframe tbody tr th:only-of-type {\n",
              "        vertical-align: middle;\n",
              "    }\n",
              "\n",
              "    .dataframe tbody tr th {\n",
              "        vertical-align: top;\n",
              "    }\n",
              "\n",
              "    .dataframe thead th {\n",
              "        text-align: right;\n",
              "    }\n",
              "</style>\n",
              "<table border=\"1\" class=\"dataframe\">\n",
              "  <thead>\n",
              "    <tr style=\"text-align: right;\">\n",
              "      <th></th>\n",
              "      <th>age</th>\n",
              "      <th>sex</th>\n",
              "      <th>bmi</th>\n",
              "      <th>bp</th>\n",
              "      <th>s1</th>\n",
              "      <th>s2</th>\n",
              "      <th>s3</th>\n",
              "      <th>s4</th>\n",
              "      <th>s5</th>\n",
              "      <th>s6</th>\n",
              "    </tr>\n",
              "  </thead>\n",
              "  <tbody>\n",
              "    <tr>\n",
              "      <th>0</th>\n",
              "      <td>0.038076</td>\n",
              "      <td>0.050680</td>\n",
              "      <td>0.061696</td>\n",
              "      <td>0.021872</td>\n",
              "      <td>-0.044223</td>\n",
              "      <td>-0.034821</td>\n",
              "      <td>-0.043401</td>\n",
              "      <td>-0.002592</td>\n",
              "      <td>0.019907</td>\n",
              "      <td>-0.017646</td>\n",
              "    </tr>\n",
              "    <tr>\n",
              "      <th>1</th>\n",
              "      <td>-0.001882</td>\n",
              "      <td>-0.044642</td>\n",
              "      <td>-0.051474</td>\n",
              "      <td>-0.026328</td>\n",
              "      <td>-0.008449</td>\n",
              "      <td>-0.019163</td>\n",
              "      <td>0.074412</td>\n",
              "      <td>-0.039493</td>\n",
              "      <td>-0.068332</td>\n",
              "      <td>-0.092204</td>\n",
              "    </tr>\n",
              "    <tr>\n",
              "      <th>2</th>\n",
              "      <td>0.085299</td>\n",
              "      <td>0.050680</td>\n",
              "      <td>0.044451</td>\n",
              "      <td>-0.005670</td>\n",
              "      <td>-0.045599</td>\n",
              "      <td>-0.034194</td>\n",
              "      <td>-0.032356</td>\n",
              "      <td>-0.002592</td>\n",
              "      <td>0.002861</td>\n",
              "      <td>-0.025930</td>\n",
              "    </tr>\n",
              "    <tr>\n",
              "      <th>3</th>\n",
              "      <td>-0.089063</td>\n",
              "      <td>-0.044642</td>\n",
              "      <td>-0.011595</td>\n",
              "      <td>-0.036656</td>\n",
              "      <td>0.012191</td>\n",
              "      <td>0.024991</td>\n",
              "      <td>-0.036038</td>\n",
              "      <td>0.034309</td>\n",
              "      <td>0.022688</td>\n",
              "      <td>-0.009362</td>\n",
              "    </tr>\n",
              "    <tr>\n",
              "      <th>4</th>\n",
              "      <td>0.005383</td>\n",
              "      <td>-0.044642</td>\n",
              "      <td>-0.036385</td>\n",
              "      <td>0.021872</td>\n",
              "      <td>0.003935</td>\n",
              "      <td>0.015596</td>\n",
              "      <td>0.008142</td>\n",
              "      <td>-0.002592</td>\n",
              "      <td>-0.031988</td>\n",
              "      <td>-0.046641</td>\n",
              "    </tr>\n",
              "  </tbody>\n",
              "</table>\n",
              "</div>"
            ],
            "text/plain": [
              "        age       sex       bmi        bp        s1        s2        s3  \\\n",
              "0  0.038076  0.050680  0.061696  0.021872 -0.044223 -0.034821 -0.043401   \n",
              "1 -0.001882 -0.044642 -0.051474 -0.026328 -0.008449 -0.019163  0.074412   \n",
              "2  0.085299  0.050680  0.044451 -0.005670 -0.045599 -0.034194 -0.032356   \n",
              "3 -0.089063 -0.044642 -0.011595 -0.036656  0.012191  0.024991 -0.036038   \n",
              "4  0.005383 -0.044642 -0.036385  0.021872  0.003935  0.015596  0.008142   \n",
              "\n",
              "         s4        s5        s6  \n",
              "0 -0.002592  0.019907 -0.017646  \n",
              "1 -0.039493 -0.068332 -0.092204  \n",
              "2 -0.002592  0.002861 -0.025930  \n",
              "3  0.034309  0.022688 -0.009362  \n",
              "4 -0.002592 -0.031988 -0.046641  "
            ]
          },
          "execution_count": 53,
          "metadata": {},
          "output_type": "execute_result"
        }
      ],
      "source": [
        "boston_df.head()"
      ]
    },
    {
      "cell_type": "code",
      "execution_count": 54,
      "metadata": {
        "colab": {
          "base_uri": "https://localhost:8080/"
        },
        "id": "-lVuRr8PaqFF",
        "outputId": "d4c5d6ef-0ee3-45fe-8622-490002b9b30f"
      },
      "outputs": [
        {
          "data": {
            "text/plain": [
              "(442, 10)"
            ]
          },
          "execution_count": 54,
          "metadata": {},
          "output_type": "execute_result"
        }
      ],
      "source": [
        "boston_df.shape"
      ]
    },
    {
      "cell_type": "code",
      "execution_count": 55,
      "metadata": {
        "colab": {
          "base_uri": "https://localhost:8080/"
        },
        "id": "7oeeTdK9bdxL",
        "outputId": "f3359e8b-f684-4b9a-fa87-10d309058a0c"
      },
      "outputs": [
        {
          "data": {
            "text/plain": [
              "pandas.core.frame.DataFrame"
            ]
          },
          "execution_count": 55,
          "metadata": {},
          "output_type": "execute_result"
        }
      ],
      "source": [
        "type(boston_df)"
      ]
    },
    {
      "cell_type": "markdown",
      "metadata": {
        "id": "-zIfujfKa2k4"
      },
      "source": [
        "Importing the data from a CSV file to a pandas DataFrame"
      ]
    },
    {
      "cell_type": "code",
      "execution_count": 56,
      "metadata": {
        "id": "6S8-No7Davp5"
      },
      "outputs": [],
      "source": [
        "# csv file to pandas df\n",
        "diabetes_df = pd.read_csv('diabetes.csv')"
      ]
    },
    {
      "cell_type": "code",
      "execution_count": 57,
      "metadata": {
        "colab": {
          "base_uri": "https://localhost:8080/"
        },
        "id": "kz6qRwihbWI7",
        "outputId": "4bed0e7d-3ca9-4fd5-9bb7-14d506ed1b60"
      },
      "outputs": [
        {
          "data": {
            "text/plain": [
              "pandas.core.frame.DataFrame"
            ]
          },
          "execution_count": 57,
          "metadata": {},
          "output_type": "execute_result"
        }
      ],
      "source": [
        "type(diabetes_df)"
      ]
    },
    {
      "cell_type": "code",
      "execution_count": 58,
      "metadata": {
        "colab": {
          "base_uri": "https://localhost:8080/",
          "height": 198
        },
        "id": "eY8BRA3HbYul",
        "outputId": "d22dc4d5-f26a-4845-b326-b26ca5f49bc4"
      },
      "outputs": [
        {
          "data": {
            "text/html": [
              "<div>\n",
              "<style scoped>\n",
              "    .dataframe tbody tr th:only-of-type {\n",
              "        vertical-align: middle;\n",
              "    }\n",
              "\n",
              "    .dataframe tbody tr th {\n",
              "        vertical-align: top;\n",
              "    }\n",
              "\n",
              "    .dataframe thead th {\n",
              "        text-align: right;\n",
              "    }\n",
              "</style>\n",
              "<table border=\"1\" class=\"dataframe\">\n",
              "  <thead>\n",
              "    <tr style=\"text-align: right;\">\n",
              "      <th></th>\n",
              "      <th>Pregnancies</th>\n",
              "      <th>Glucose</th>\n",
              "      <th>BloodPressure</th>\n",
              "      <th>SkinThickness</th>\n",
              "      <th>Insulin</th>\n",
              "      <th>BMI</th>\n",
              "      <th>DiabetesPedigreeFunction</th>\n",
              "      <th>Age</th>\n",
              "      <th>Outcome</th>\n",
              "    </tr>\n",
              "  </thead>\n",
              "  <tbody>\n",
              "    <tr>\n",
              "      <th>0</th>\n",
              "      <td>6</td>\n",
              "      <td>148</td>\n",
              "      <td>72</td>\n",
              "      <td>35</td>\n",
              "      <td>0</td>\n",
              "      <td>33.6</td>\n",
              "      <td>0.627</td>\n",
              "      <td>50</td>\n",
              "      <td>1</td>\n",
              "    </tr>\n",
              "    <tr>\n",
              "      <th>1</th>\n",
              "      <td>1</td>\n",
              "      <td>85</td>\n",
              "      <td>66</td>\n",
              "      <td>29</td>\n",
              "      <td>0</td>\n",
              "      <td>26.6</td>\n",
              "      <td>0.351</td>\n",
              "      <td>31</td>\n",
              "      <td>0</td>\n",
              "    </tr>\n",
              "    <tr>\n",
              "      <th>2</th>\n",
              "      <td>8</td>\n",
              "      <td>183</td>\n",
              "      <td>64</td>\n",
              "      <td>0</td>\n",
              "      <td>0</td>\n",
              "      <td>23.3</td>\n",
              "      <td>0.672</td>\n",
              "      <td>32</td>\n",
              "      <td>1</td>\n",
              "    </tr>\n",
              "    <tr>\n",
              "      <th>3</th>\n",
              "      <td>1</td>\n",
              "      <td>89</td>\n",
              "      <td>66</td>\n",
              "      <td>23</td>\n",
              "      <td>94</td>\n",
              "      <td>28.1</td>\n",
              "      <td>0.167</td>\n",
              "      <td>21</td>\n",
              "      <td>0</td>\n",
              "    </tr>\n",
              "    <tr>\n",
              "      <th>4</th>\n",
              "      <td>0</td>\n",
              "      <td>137</td>\n",
              "      <td>40</td>\n",
              "      <td>35</td>\n",
              "      <td>168</td>\n",
              "      <td>43.1</td>\n",
              "      <td>2.288</td>\n",
              "      <td>33</td>\n",
              "      <td>1</td>\n",
              "    </tr>\n",
              "  </tbody>\n",
              "</table>\n",
              "</div>"
            ],
            "text/plain": [
              "   Pregnancies  Glucose  BloodPressure  SkinThickness  Insulin   BMI  \\\n",
              "0            6      148             72             35        0  33.6   \n",
              "1            1       85             66             29        0  26.6   \n",
              "2            8      183             64              0        0  23.3   \n",
              "3            1       89             66             23       94  28.1   \n",
              "4            0      137             40             35      168  43.1   \n",
              "\n",
              "   DiabetesPedigreeFunction  Age  Outcome  \n",
              "0                     0.627   50        1  \n",
              "1                     0.351   31        0  \n",
              "2                     0.672   32        1  \n",
              "3                     0.167   21        0  \n",
              "4                     2.288   33        1  "
            ]
          },
          "execution_count": 58,
          "metadata": {},
          "output_type": "execute_result"
        }
      ],
      "source": [
        "diabetes_df.head()"
      ]
    },
    {
      "cell_type": "code",
      "execution_count": 59,
      "metadata": {
        "colab": {
          "base_uri": "https://localhost:8080/"
        },
        "id": "LRxUVvTVbk51",
        "outputId": "d172f0eb-ec67-4306-f042-0dcffe90c260"
      },
      "outputs": [
        {
          "data": {
            "text/plain": [
              "(768, 9)"
            ]
          },
          "execution_count": 59,
          "metadata": {},
          "output_type": "execute_result"
        }
      ],
      "source": [
        "diabetes_df.shape"
      ]
    },
    {
      "cell_type": "markdown",
      "metadata": {
        "id": "n040hNF4bxyx"
      },
      "source": [
        "Loading the data from a excel file to a Pandas DataFrame:\n",
        "\n",
        "pd.read_excel('file path')"
      ]
    },
    {
      "cell_type": "markdown",
      "metadata": {
        "id": "xdJdB1M5cBrE"
      },
      "source": [
        "Exporting a DataFrame to a csv file"
      ]
    },
    {
      "cell_type": "code",
      "execution_count": 60,
      "metadata": {
        "id": "Sj9HFIpvbu_m"
      },
      "outputs": [],
      "source": [
        "boston_df.to_csv('boston.csv')"
      ]
    },
    {
      "cell_type": "markdown",
      "metadata": {
        "id": "GHnKmmaQcoSp"
      },
      "source": [
        "Exporting the Pandas DataFrame to an excel File:\n",
        "\n",
        "df.to_excel('filename')"
      ]
    },
    {
      "cell_type": "code",
      "execution_count": 61,
      "metadata": {
        "id": "Q7BW1O43cnYH"
      },
      "outputs": [],
      "source": [
        "# creating a DatFrame with random values\n",
        "random_df = pd.DataFrame(np.random.rand(20,10))"
      ]
    },
    {
      "cell_type": "code",
      "execution_count": 62,
      "metadata": {
        "colab": {
          "base_uri": "https://localhost:8080/",
          "height": 198
        },
        "id": "e-PXNEaUcTXR",
        "outputId": "bf0becd7-a6db-44ec-a396-c74b6e8f8434"
      },
      "outputs": [
        {
          "data": {
            "text/html": [
              "<div>\n",
              "<style scoped>\n",
              "    .dataframe tbody tr th:only-of-type {\n",
              "        vertical-align: middle;\n",
              "    }\n",
              "\n",
              "    .dataframe tbody tr th {\n",
              "        vertical-align: top;\n",
              "    }\n",
              "\n",
              "    .dataframe thead th {\n",
              "        text-align: right;\n",
              "    }\n",
              "</style>\n",
              "<table border=\"1\" class=\"dataframe\">\n",
              "  <thead>\n",
              "    <tr style=\"text-align: right;\">\n",
              "      <th></th>\n",
              "      <th>0</th>\n",
              "      <th>1</th>\n",
              "      <th>2</th>\n",
              "      <th>3</th>\n",
              "      <th>4</th>\n",
              "      <th>5</th>\n",
              "      <th>6</th>\n",
              "      <th>7</th>\n",
              "      <th>8</th>\n",
              "      <th>9</th>\n",
              "    </tr>\n",
              "  </thead>\n",
              "  <tbody>\n",
              "    <tr>\n",
              "      <th>0</th>\n",
              "      <td>0.785278</td>\n",
              "      <td>0.467864</td>\n",
              "      <td>0.176254</td>\n",
              "      <td>0.887109</td>\n",
              "      <td>0.653626</td>\n",
              "      <td>0.621912</td>\n",
              "      <td>0.563382</td>\n",
              "      <td>0.011286</td>\n",
              "      <td>0.992125</td>\n",
              "      <td>0.100909</td>\n",
              "    </tr>\n",
              "    <tr>\n",
              "      <th>1</th>\n",
              "      <td>0.141741</td>\n",
              "      <td>0.022777</td>\n",
              "      <td>0.244531</td>\n",
              "      <td>0.052405</td>\n",
              "      <td>0.784019</td>\n",
              "      <td>0.040740</td>\n",
              "      <td>0.644444</td>\n",
              "      <td>0.880811</td>\n",
              "      <td>0.470666</td>\n",
              "      <td>0.692307</td>\n",
              "    </tr>\n",
              "    <tr>\n",
              "      <th>2</th>\n",
              "      <td>0.381933</td>\n",
              "      <td>0.519803</td>\n",
              "      <td>0.725015</td>\n",
              "      <td>0.080146</td>\n",
              "      <td>0.574221</td>\n",
              "      <td>0.258628</td>\n",
              "      <td>0.691639</td>\n",
              "      <td>0.185045</td>\n",
              "      <td>0.901278</td>\n",
              "      <td>0.534557</td>\n",
              "    </tr>\n",
              "    <tr>\n",
              "      <th>3</th>\n",
              "      <td>0.106521</td>\n",
              "      <td>0.090867</td>\n",
              "      <td>0.736994</td>\n",
              "      <td>0.540681</td>\n",
              "      <td>0.677106</td>\n",
              "      <td>0.915584</td>\n",
              "      <td>0.924896</td>\n",
              "      <td>0.994732</td>\n",
              "      <td>0.688728</td>\n",
              "      <td>0.780890</td>\n",
              "    </tr>\n",
              "    <tr>\n",
              "      <th>4</th>\n",
              "      <td>0.202589</td>\n",
              "      <td>0.342608</td>\n",
              "      <td>0.647417</td>\n",
              "      <td>0.896286</td>\n",
              "      <td>0.487739</td>\n",
              "      <td>0.338468</td>\n",
              "      <td>0.203151</td>\n",
              "      <td>0.092245</td>\n",
              "      <td>0.445127</td>\n",
              "      <td>0.006894</td>\n",
              "    </tr>\n",
              "  </tbody>\n",
              "</table>\n",
              "</div>"
            ],
            "text/plain": [
              "          0         1         2         3         4         5         6  \\\n",
              "0  0.785278  0.467864  0.176254  0.887109  0.653626  0.621912  0.563382   \n",
              "1  0.141741  0.022777  0.244531  0.052405  0.784019  0.040740  0.644444   \n",
              "2  0.381933  0.519803  0.725015  0.080146  0.574221  0.258628  0.691639   \n",
              "3  0.106521  0.090867  0.736994  0.540681  0.677106  0.915584  0.924896   \n",
              "4  0.202589  0.342608  0.647417  0.896286  0.487739  0.338468  0.203151   \n",
              "\n",
              "          7         8         9  \n",
              "0  0.011286  0.992125  0.100909  \n",
              "1  0.880811  0.470666  0.692307  \n",
              "2  0.185045  0.901278  0.534557  \n",
              "3  0.994732  0.688728  0.780890  \n",
              "4  0.092245  0.445127  0.006894  "
            ]
          },
          "execution_count": 62,
          "metadata": {},
          "output_type": "execute_result"
        }
      ],
      "source": [
        "random_df.head()"
      ]
    },
    {
      "cell_type": "code",
      "execution_count": 63,
      "metadata": {
        "colab": {
          "base_uri": "https://localhost:8080/"
        },
        "id": "2dbnejFLdHHK",
        "outputId": "abd8e9b1-993f-47cb-f714-6ce085726bbf"
      },
      "outputs": [
        {
          "data": {
            "text/plain": [
              "(20, 10)"
            ]
          },
          "execution_count": 63,
          "metadata": {},
          "output_type": "execute_result"
        }
      ],
      "source": [
        "random_df.shape"
      ]
    },
    {
      "cell_type": "markdown",
      "metadata": {
        "id": "5g-TMlwadUcc"
      },
      "source": [
        "Inspecting a DataFrame"
      ]
    },
    {
      "cell_type": "code",
      "execution_count": 64,
      "metadata": {
        "colab": {
          "base_uri": "https://localhost:8080/"
        },
        "id": "M2k8X5nhdSH4",
        "outputId": "533a9d40-b917-4f8f-8abd-6f983a8825b2"
      },
      "outputs": [
        {
          "data": {
            "text/plain": [
              "(442, 10)"
            ]
          },
          "execution_count": 64,
          "metadata": {},
          "output_type": "execute_result"
        }
      ],
      "source": [
        "#finding the number of rows & columns\n",
        "boston_df.shape"
      ]
    },
    {
      "cell_type": "code",
      "execution_count": 65,
      "metadata": {
        "colab": {
          "base_uri": "https://localhost:8080/",
          "height": 198
        },
        "id": "PP6fmhrxdg0_",
        "outputId": "41899255-4205-40ee-d2ba-2fdaea8dfb52"
      },
      "outputs": [
        {
          "data": {
            "text/html": [
              "<div>\n",
              "<style scoped>\n",
              "    .dataframe tbody tr th:only-of-type {\n",
              "        vertical-align: middle;\n",
              "    }\n",
              "\n",
              "    .dataframe tbody tr th {\n",
              "        vertical-align: top;\n",
              "    }\n",
              "\n",
              "    .dataframe thead th {\n",
              "        text-align: right;\n",
              "    }\n",
              "</style>\n",
              "<table border=\"1\" class=\"dataframe\">\n",
              "  <thead>\n",
              "    <tr style=\"text-align: right;\">\n",
              "      <th></th>\n",
              "      <th>age</th>\n",
              "      <th>sex</th>\n",
              "      <th>bmi</th>\n",
              "      <th>bp</th>\n",
              "      <th>s1</th>\n",
              "      <th>s2</th>\n",
              "      <th>s3</th>\n",
              "      <th>s4</th>\n",
              "      <th>s5</th>\n",
              "      <th>s6</th>\n",
              "    </tr>\n",
              "  </thead>\n",
              "  <tbody>\n",
              "    <tr>\n",
              "      <th>0</th>\n",
              "      <td>0.038076</td>\n",
              "      <td>0.050680</td>\n",
              "      <td>0.061696</td>\n",
              "      <td>0.021872</td>\n",
              "      <td>-0.044223</td>\n",
              "      <td>-0.034821</td>\n",
              "      <td>-0.043401</td>\n",
              "      <td>-0.002592</td>\n",
              "      <td>0.019907</td>\n",
              "      <td>-0.017646</td>\n",
              "    </tr>\n",
              "    <tr>\n",
              "      <th>1</th>\n",
              "      <td>-0.001882</td>\n",
              "      <td>-0.044642</td>\n",
              "      <td>-0.051474</td>\n",
              "      <td>-0.026328</td>\n",
              "      <td>-0.008449</td>\n",
              "      <td>-0.019163</td>\n",
              "      <td>0.074412</td>\n",
              "      <td>-0.039493</td>\n",
              "      <td>-0.068332</td>\n",
              "      <td>-0.092204</td>\n",
              "    </tr>\n",
              "    <tr>\n",
              "      <th>2</th>\n",
              "      <td>0.085299</td>\n",
              "      <td>0.050680</td>\n",
              "      <td>0.044451</td>\n",
              "      <td>-0.005670</td>\n",
              "      <td>-0.045599</td>\n",
              "      <td>-0.034194</td>\n",
              "      <td>-0.032356</td>\n",
              "      <td>-0.002592</td>\n",
              "      <td>0.002861</td>\n",
              "      <td>-0.025930</td>\n",
              "    </tr>\n",
              "    <tr>\n",
              "      <th>3</th>\n",
              "      <td>-0.089063</td>\n",
              "      <td>-0.044642</td>\n",
              "      <td>-0.011595</td>\n",
              "      <td>-0.036656</td>\n",
              "      <td>0.012191</td>\n",
              "      <td>0.024991</td>\n",
              "      <td>-0.036038</td>\n",
              "      <td>0.034309</td>\n",
              "      <td>0.022688</td>\n",
              "      <td>-0.009362</td>\n",
              "    </tr>\n",
              "    <tr>\n",
              "      <th>4</th>\n",
              "      <td>0.005383</td>\n",
              "      <td>-0.044642</td>\n",
              "      <td>-0.036385</td>\n",
              "      <td>0.021872</td>\n",
              "      <td>0.003935</td>\n",
              "      <td>0.015596</td>\n",
              "      <td>0.008142</td>\n",
              "      <td>-0.002592</td>\n",
              "      <td>-0.031988</td>\n",
              "      <td>-0.046641</td>\n",
              "    </tr>\n",
              "  </tbody>\n",
              "</table>\n",
              "</div>"
            ],
            "text/plain": [
              "        age       sex       bmi        bp        s1        s2        s3  \\\n",
              "0  0.038076  0.050680  0.061696  0.021872 -0.044223 -0.034821 -0.043401   \n",
              "1 -0.001882 -0.044642 -0.051474 -0.026328 -0.008449 -0.019163  0.074412   \n",
              "2  0.085299  0.050680  0.044451 -0.005670 -0.045599 -0.034194 -0.032356   \n",
              "3 -0.089063 -0.044642 -0.011595 -0.036656  0.012191  0.024991 -0.036038   \n",
              "4  0.005383 -0.044642 -0.036385  0.021872  0.003935  0.015596  0.008142   \n",
              "\n",
              "         s4        s5        s6  \n",
              "0 -0.002592  0.019907 -0.017646  \n",
              "1 -0.039493 -0.068332 -0.092204  \n",
              "2 -0.002592  0.002861 -0.025930  \n",
              "3  0.034309  0.022688 -0.009362  \n",
              "4 -0.002592 -0.031988 -0.046641  "
            ]
          },
          "execution_count": 65,
          "metadata": {},
          "output_type": "execute_result"
        }
      ],
      "source": [
        "# first 5 rows in a DataFrame\n",
        "boston_df.head()"
      ]
    },
    {
      "cell_type": "code",
      "execution_count": 66,
      "metadata": {
        "colab": {
          "base_uri": "https://localhost:8080/",
          "height": 198
        },
        "id": "4d26uj3Adn-z",
        "outputId": "3f66d12f-ff73-4f12-a315-9cc2380cc2ad"
      },
      "outputs": [
        {
          "data": {
            "text/html": [
              "<div>\n",
              "<style scoped>\n",
              "    .dataframe tbody tr th:only-of-type {\n",
              "        vertical-align: middle;\n",
              "    }\n",
              "\n",
              "    .dataframe tbody tr th {\n",
              "        vertical-align: top;\n",
              "    }\n",
              "\n",
              "    .dataframe thead th {\n",
              "        text-align: right;\n",
              "    }\n",
              "</style>\n",
              "<table border=\"1\" class=\"dataframe\">\n",
              "  <thead>\n",
              "    <tr style=\"text-align: right;\">\n",
              "      <th></th>\n",
              "      <th>age</th>\n",
              "      <th>sex</th>\n",
              "      <th>bmi</th>\n",
              "      <th>bp</th>\n",
              "      <th>s1</th>\n",
              "      <th>s2</th>\n",
              "      <th>s3</th>\n",
              "      <th>s4</th>\n",
              "      <th>s5</th>\n",
              "      <th>s6</th>\n",
              "    </tr>\n",
              "  </thead>\n",
              "  <tbody>\n",
              "    <tr>\n",
              "      <th>437</th>\n",
              "      <td>0.041708</td>\n",
              "      <td>0.050680</td>\n",
              "      <td>0.019662</td>\n",
              "      <td>0.059744</td>\n",
              "      <td>-0.005697</td>\n",
              "      <td>-0.002566</td>\n",
              "      <td>-0.028674</td>\n",
              "      <td>-0.002592</td>\n",
              "      <td>0.031193</td>\n",
              "      <td>0.007207</td>\n",
              "    </tr>\n",
              "    <tr>\n",
              "      <th>438</th>\n",
              "      <td>-0.005515</td>\n",
              "      <td>0.050680</td>\n",
              "      <td>-0.015906</td>\n",
              "      <td>-0.067642</td>\n",
              "      <td>0.049341</td>\n",
              "      <td>0.079165</td>\n",
              "      <td>-0.028674</td>\n",
              "      <td>0.034309</td>\n",
              "      <td>-0.018114</td>\n",
              "      <td>0.044485</td>\n",
              "    </tr>\n",
              "    <tr>\n",
              "      <th>439</th>\n",
              "      <td>0.041708</td>\n",
              "      <td>0.050680</td>\n",
              "      <td>-0.015906</td>\n",
              "      <td>0.017293</td>\n",
              "      <td>-0.037344</td>\n",
              "      <td>-0.013840</td>\n",
              "      <td>-0.024993</td>\n",
              "      <td>-0.011080</td>\n",
              "      <td>-0.046883</td>\n",
              "      <td>0.015491</td>\n",
              "    </tr>\n",
              "    <tr>\n",
              "      <th>440</th>\n",
              "      <td>-0.045472</td>\n",
              "      <td>-0.044642</td>\n",
              "      <td>0.039062</td>\n",
              "      <td>0.001215</td>\n",
              "      <td>0.016318</td>\n",
              "      <td>0.015283</td>\n",
              "      <td>-0.028674</td>\n",
              "      <td>0.026560</td>\n",
              "      <td>0.044529</td>\n",
              "      <td>-0.025930</td>\n",
              "    </tr>\n",
              "    <tr>\n",
              "      <th>441</th>\n",
              "      <td>-0.045472</td>\n",
              "      <td>-0.044642</td>\n",
              "      <td>-0.073030</td>\n",
              "      <td>-0.081413</td>\n",
              "      <td>0.083740</td>\n",
              "      <td>0.027809</td>\n",
              "      <td>0.173816</td>\n",
              "      <td>-0.039493</td>\n",
              "      <td>-0.004222</td>\n",
              "      <td>0.003064</td>\n",
              "    </tr>\n",
              "  </tbody>\n",
              "</table>\n",
              "</div>"
            ],
            "text/plain": [
              "          age       sex       bmi        bp        s1        s2        s3  \\\n",
              "437  0.041708  0.050680  0.019662  0.059744 -0.005697 -0.002566 -0.028674   \n",
              "438 -0.005515  0.050680 -0.015906 -0.067642  0.049341  0.079165 -0.028674   \n",
              "439  0.041708  0.050680 -0.015906  0.017293 -0.037344 -0.013840 -0.024993   \n",
              "440 -0.045472 -0.044642  0.039062  0.001215  0.016318  0.015283 -0.028674   \n",
              "441 -0.045472 -0.044642 -0.073030 -0.081413  0.083740  0.027809  0.173816   \n",
              "\n",
              "           s4        s5        s6  \n",
              "437 -0.002592  0.031193  0.007207  \n",
              "438  0.034309 -0.018114  0.044485  \n",
              "439 -0.011080 -0.046883  0.015491  \n",
              "440  0.026560  0.044529 -0.025930  \n",
              "441 -0.039493 -0.004222  0.003064  "
            ]
          },
          "execution_count": 66,
          "metadata": {},
          "output_type": "execute_result"
        }
      ],
      "source": [
        "# last 5 rows of the DataFrame\n",
        "boston_df.tail()"
      ]
    },
    {
      "cell_type": "code",
      "execution_count": 67,
      "metadata": {
        "colab": {
          "base_uri": "https://localhost:8080/"
        },
        "id": "S0-uBf_ZdvEf",
        "outputId": "238b488f-0ca4-498d-909c-382e4cb23f69"
      },
      "outputs": [
        {
          "name": "stdout",
          "output_type": "stream",
          "text": [
            "<class 'pandas.core.frame.DataFrame'>\n",
            "RangeIndex: 442 entries, 0 to 441\n",
            "Data columns (total 10 columns):\n",
            " #   Column  Non-Null Count  Dtype  \n",
            "---  ------  --------------  -----  \n",
            " 0   age     442 non-null    float64\n",
            " 1   sex     442 non-null    float64\n",
            " 2   bmi     442 non-null    float64\n",
            " 3   bp      442 non-null    float64\n",
            " 4   s1      442 non-null    float64\n",
            " 5   s2      442 non-null    float64\n",
            " 6   s3      442 non-null    float64\n",
            " 7   s4      442 non-null    float64\n",
            " 8   s5      442 non-null    float64\n",
            " 9   s6      442 non-null    float64\n",
            "dtypes: float64(10)\n",
            "memory usage: 34.7 KB\n"
          ]
        }
      ],
      "source": [
        "# informations about the DataFrame\n",
        "boston_df.info()"
      ]
    },
    {
      "cell_type": "code",
      "execution_count": 68,
      "metadata": {
        "colab": {
          "base_uri": "https://localhost:8080/"
        },
        "id": "jBvfM7Rcd2Bz",
        "outputId": "2f58199d-902d-4979-c236-72a33743c516"
      },
      "outputs": [
        {
          "data": {
            "text/plain": [
              "age    0\n",
              "sex    0\n",
              "bmi    0\n",
              "bp     0\n",
              "s1     0\n",
              "s2     0\n",
              "s3     0\n",
              "s4     0\n",
              "s5     0\n",
              "s6     0\n",
              "dtype: int64"
            ]
          },
          "execution_count": 68,
          "metadata": {},
          "output_type": "execute_result"
        }
      ],
      "source": [
        "# finding the number of missing values\n",
        "boston_df.isnull().sum()"
      ]
    },
    {
      "cell_type": "code",
      "execution_count": 69,
      "metadata": {
        "colab": {
          "base_uri": "https://localhost:8080/",
          "height": 198
        },
        "id": "oqA2WSJueQX1",
        "outputId": "4783134c-0ab0-4ada-99a6-32f062800d7d"
      },
      "outputs": [
        {
          "data": {
            "text/html": [
              "<div>\n",
              "<style scoped>\n",
              "    .dataframe tbody tr th:only-of-type {\n",
              "        vertical-align: middle;\n",
              "    }\n",
              "\n",
              "    .dataframe tbody tr th {\n",
              "        vertical-align: top;\n",
              "    }\n",
              "\n",
              "    .dataframe thead th {\n",
              "        text-align: right;\n",
              "    }\n",
              "</style>\n",
              "<table border=\"1\" class=\"dataframe\">\n",
              "  <thead>\n",
              "    <tr style=\"text-align: right;\">\n",
              "      <th></th>\n",
              "      <th>Pregnancies</th>\n",
              "      <th>Glucose</th>\n",
              "      <th>BloodPressure</th>\n",
              "      <th>SkinThickness</th>\n",
              "      <th>Insulin</th>\n",
              "      <th>BMI</th>\n",
              "      <th>DiabetesPedigreeFunction</th>\n",
              "      <th>Age</th>\n",
              "      <th>Outcome</th>\n",
              "    </tr>\n",
              "  </thead>\n",
              "  <tbody>\n",
              "    <tr>\n",
              "      <th>0</th>\n",
              "      <td>6</td>\n",
              "      <td>148</td>\n",
              "      <td>72</td>\n",
              "      <td>35</td>\n",
              "      <td>0</td>\n",
              "      <td>33.6</td>\n",
              "      <td>0.627</td>\n",
              "      <td>50</td>\n",
              "      <td>1</td>\n",
              "    </tr>\n",
              "    <tr>\n",
              "      <th>1</th>\n",
              "      <td>1</td>\n",
              "      <td>85</td>\n",
              "      <td>66</td>\n",
              "      <td>29</td>\n",
              "      <td>0</td>\n",
              "      <td>26.6</td>\n",
              "      <td>0.351</td>\n",
              "      <td>31</td>\n",
              "      <td>0</td>\n",
              "    </tr>\n",
              "    <tr>\n",
              "      <th>2</th>\n",
              "      <td>8</td>\n",
              "      <td>183</td>\n",
              "      <td>64</td>\n",
              "      <td>0</td>\n",
              "      <td>0</td>\n",
              "      <td>23.3</td>\n",
              "      <td>0.672</td>\n",
              "      <td>32</td>\n",
              "      <td>1</td>\n",
              "    </tr>\n",
              "    <tr>\n",
              "      <th>3</th>\n",
              "      <td>1</td>\n",
              "      <td>89</td>\n",
              "      <td>66</td>\n",
              "      <td>23</td>\n",
              "      <td>94</td>\n",
              "      <td>28.1</td>\n",
              "      <td>0.167</td>\n",
              "      <td>21</td>\n",
              "      <td>0</td>\n",
              "    </tr>\n",
              "    <tr>\n",
              "      <th>4</th>\n",
              "      <td>0</td>\n",
              "      <td>137</td>\n",
              "      <td>40</td>\n",
              "      <td>35</td>\n",
              "      <td>168</td>\n",
              "      <td>43.1</td>\n",
              "      <td>2.288</td>\n",
              "      <td>33</td>\n",
              "      <td>1</td>\n",
              "    </tr>\n",
              "  </tbody>\n",
              "</table>\n",
              "</div>"
            ],
            "text/plain": [
              "   Pregnancies  Glucose  BloodPressure  SkinThickness  Insulin   BMI  \\\n",
              "0            6      148             72             35        0  33.6   \n",
              "1            1       85             66             29        0  26.6   \n",
              "2            8      183             64              0        0  23.3   \n",
              "3            1       89             66             23       94  28.1   \n",
              "4            0      137             40             35      168  43.1   \n",
              "\n",
              "   DiabetesPedigreeFunction  Age  Outcome  \n",
              "0                     0.627   50        1  \n",
              "1                     0.351   31        0  \n",
              "2                     0.672   32        1  \n",
              "3                     0.167   21        0  \n",
              "4                     2.288   33        1  "
            ]
          },
          "execution_count": 69,
          "metadata": {},
          "output_type": "execute_result"
        }
      ],
      "source": [
        "# diabetes dataframe\n",
        "diabetes_df.head()"
      ]
    },
    {
      "cell_type": "code",
      "execution_count": 70,
      "metadata": {
        "colab": {
          "base_uri": "https://localhost:8080/"
        },
        "id": "3xWC5ruQehbX",
        "outputId": "2575b92b-713f-40d1-b8cf-c057ed5aa8de"
      },
      "outputs": [
        {
          "data": {
            "text/plain": [
              "Outcome\n",
              "0    500\n",
              "1    268\n",
              "Name: count, dtype: int64"
            ]
          },
          "execution_count": 70,
          "metadata": {},
          "output_type": "execute_result"
        }
      ],
      "source": [
        "# counting the values based on the labels\n",
        "diabetes_df.value_counts('Outcome')"
      ]
    },
    {
      "cell_type": "code",
      "execution_count": 71,
      "metadata": {
        "colab": {
          "base_uri": "https://localhost:8080/",
          "height": 138
        },
        "id": "lJAcvKKxevf2",
        "outputId": "51939f00-93e8-4884-ee19-e5096c779376"
      },
      "outputs": [
        {
          "data": {
            "text/html": [
              "<div>\n",
              "<style scoped>\n",
              "    .dataframe tbody tr th:only-of-type {\n",
              "        vertical-align: middle;\n",
              "    }\n",
              "\n",
              "    .dataframe tbody tr th {\n",
              "        vertical-align: top;\n",
              "    }\n",
              "\n",
              "    .dataframe thead th {\n",
              "        text-align: right;\n",
              "    }\n",
              "</style>\n",
              "<table border=\"1\" class=\"dataframe\">\n",
              "  <thead>\n",
              "    <tr style=\"text-align: right;\">\n",
              "      <th></th>\n",
              "      <th>Pregnancies</th>\n",
              "      <th>Glucose</th>\n",
              "      <th>BloodPressure</th>\n",
              "      <th>SkinThickness</th>\n",
              "      <th>Insulin</th>\n",
              "      <th>BMI</th>\n",
              "      <th>DiabetesPedigreeFunction</th>\n",
              "      <th>Age</th>\n",
              "    </tr>\n",
              "    <tr>\n",
              "      <th>Outcome</th>\n",
              "      <th></th>\n",
              "      <th></th>\n",
              "      <th></th>\n",
              "      <th></th>\n",
              "      <th></th>\n",
              "      <th></th>\n",
              "      <th></th>\n",
              "      <th></th>\n",
              "    </tr>\n",
              "  </thead>\n",
              "  <tbody>\n",
              "    <tr>\n",
              "      <th>0</th>\n",
              "      <td>3.298000</td>\n",
              "      <td>109.980000</td>\n",
              "      <td>68.184000</td>\n",
              "      <td>19.664000</td>\n",
              "      <td>68.792000</td>\n",
              "      <td>30.304200</td>\n",
              "      <td>0.429734</td>\n",
              "      <td>31.190000</td>\n",
              "    </tr>\n",
              "    <tr>\n",
              "      <th>1</th>\n",
              "      <td>4.865672</td>\n",
              "      <td>141.257463</td>\n",
              "      <td>70.824627</td>\n",
              "      <td>22.164179</td>\n",
              "      <td>100.335821</td>\n",
              "      <td>35.142537</td>\n",
              "      <td>0.550500</td>\n",
              "      <td>37.067164</td>\n",
              "    </tr>\n",
              "  </tbody>\n",
              "</table>\n",
              "</div>"
            ],
            "text/plain": [
              "         Pregnancies     Glucose  BloodPressure  SkinThickness     Insulin  \\\n",
              "Outcome                                                                      \n",
              "0           3.298000  109.980000      68.184000      19.664000   68.792000   \n",
              "1           4.865672  141.257463      70.824627      22.164179  100.335821   \n",
              "\n",
              "               BMI  DiabetesPedigreeFunction        Age  \n",
              "Outcome                                                  \n",
              "0        30.304200                  0.429734  31.190000  \n",
              "1        35.142537                  0.550500  37.067164  "
            ]
          },
          "execution_count": 71,
          "metadata": {},
          "output_type": "execute_result"
        }
      ],
      "source": [
        "# group the values based on the mean\n",
        "diabetes_df.groupby('Outcome').mean()"
      ]
    },
    {
      "cell_type": "markdown",
      "metadata": {
        "id": "Rhim1yzWfh9v"
      },
      "source": [
        "Statistical Measures"
      ]
    },
    {
      "cell_type": "code",
      "execution_count": 72,
      "metadata": {
        "colab": {
          "base_uri": "https://localhost:8080/"
        },
        "id": "zHDusGsCfCm6",
        "outputId": "b89315ed-9a2e-46b3-9862-d4edb2aabff1"
      },
      "outputs": [
        {
          "data": {
            "text/plain": [
              "age    442\n",
              "sex    442\n",
              "bmi    442\n",
              "bp     442\n",
              "s1     442\n",
              "s2     442\n",
              "s3     442\n",
              "s4     442\n",
              "s5     442\n",
              "s6     442\n",
              "dtype: int64"
            ]
          },
          "execution_count": 72,
          "metadata": {},
          "output_type": "execute_result"
        }
      ],
      "source": [
        "# count or number of values\n",
        "boston_df.count()"
      ]
    },
    {
      "cell_type": "code",
      "execution_count": 73,
      "metadata": {
        "colab": {
          "base_uri": "https://localhost:8080/"
        },
        "id": "z8dwu66xfsAH",
        "outputId": "9a365148-eab7-4592-e412-62ff8e930bd3"
      },
      "outputs": [
        {
          "data": {
            "text/plain": [
              "age   -1.444295e-18\n",
              "sex    2.543215e-18\n",
              "bmi   -2.255925e-16\n",
              "bp    -4.854086e-17\n",
              "s1    -1.428596e-17\n",
              "s2     3.898811e-17\n",
              "s3    -6.028360e-18\n",
              "s4    -1.788100e-17\n",
              "s5     9.243486e-17\n",
              "s6     1.351770e-17\n",
              "dtype: float64"
            ]
          },
          "execution_count": 73,
          "metadata": {},
          "output_type": "execute_result"
        }
      ],
      "source": [
        "# mean value - column wise\n",
        "boston_df.mean()"
      ]
    },
    {
      "cell_type": "code",
      "execution_count": 74,
      "metadata": {
        "colab": {
          "base_uri": "https://localhost:8080/"
        },
        "id": "ciZ5NPJTfznz",
        "outputId": "3747ec0c-b443-4623-f1d9-008d55c1f95c"
      },
      "outputs": [
        {
          "data": {
            "text/plain": [
              "age    0.047619\n",
              "sex    0.047619\n",
              "bmi    0.047619\n",
              "bp     0.047619\n",
              "s1     0.047619\n",
              "s2     0.047619\n",
              "s3     0.047619\n",
              "s4     0.047619\n",
              "s5     0.047619\n",
              "s6     0.047619\n",
              "dtype: float64"
            ]
          },
          "execution_count": 74,
          "metadata": {},
          "output_type": "execute_result"
        }
      ],
      "source": [
        "# standard deviation - column wise\n",
        "boston_df.std()"
      ]
    },
    {
      "cell_type": "code",
      "execution_count": 75,
      "metadata": {
        "colab": {
          "base_uri": "https://localhost:8080/"
        },
        "id": "_RtxSaYhf66E",
        "outputId": "8013448a-e95a-464c-f077-5b6fb5710fe4"
      },
      "outputs": [
        {
          "data": {
            "text/plain": [
              "age   -0.107226\n",
              "sex   -0.044642\n",
              "bmi   -0.090275\n",
              "bp    -0.112399\n",
              "s1    -0.126781\n",
              "s2    -0.115613\n",
              "s3    -0.102307\n",
              "s4    -0.076395\n",
              "s5    -0.126097\n",
              "s6    -0.137767\n",
              "dtype: float64"
            ]
          },
          "execution_count": 75,
          "metadata": {},
          "output_type": "execute_result"
        }
      ],
      "source": [
        "# minimum value\n",
        "boston_df.min()"
      ]
    },
    {
      "cell_type": "code",
      "execution_count": 76,
      "metadata": {
        "colab": {
          "base_uri": "https://localhost:8080/"
        },
        "id": "40FcmjSTgA23",
        "outputId": "0c6d26b1-a751-4823-b259-1b126bf3865c"
      },
      "outputs": [
        {
          "data": {
            "text/plain": [
              "age    0.110727\n",
              "sex    0.050680\n",
              "bmi    0.170555\n",
              "bp     0.132044\n",
              "s1     0.153914\n",
              "s2     0.198788\n",
              "s3     0.181179\n",
              "s4     0.185234\n",
              "s5     0.133597\n",
              "s6     0.135612\n",
              "dtype: float64"
            ]
          },
          "execution_count": 76,
          "metadata": {},
          "output_type": "execute_result"
        }
      ],
      "source": [
        "# maximum value\n",
        "boston_df.max()"
      ]
    },
    {
      "cell_type": "code",
      "execution_count": 77,
      "metadata": {
        "colab": {
          "base_uri": "https://localhost:8080/",
          "height": 308
        },
        "id": "7bcmhxU9gFbZ",
        "outputId": "74b6f778-7680-4eab-9a07-f82318ccef4d"
      },
      "outputs": [
        {
          "data": {
            "text/html": [
              "<div>\n",
              "<style scoped>\n",
              "    .dataframe tbody tr th:only-of-type {\n",
              "        vertical-align: middle;\n",
              "    }\n",
              "\n",
              "    .dataframe tbody tr th {\n",
              "        vertical-align: top;\n",
              "    }\n",
              "\n",
              "    .dataframe thead th {\n",
              "        text-align: right;\n",
              "    }\n",
              "</style>\n",
              "<table border=\"1\" class=\"dataframe\">\n",
              "  <thead>\n",
              "    <tr style=\"text-align: right;\">\n",
              "      <th></th>\n",
              "      <th>age</th>\n",
              "      <th>sex</th>\n",
              "      <th>bmi</th>\n",
              "      <th>bp</th>\n",
              "      <th>s1</th>\n",
              "      <th>s2</th>\n",
              "      <th>s3</th>\n",
              "      <th>s4</th>\n",
              "      <th>s5</th>\n",
              "      <th>s6</th>\n",
              "    </tr>\n",
              "  </thead>\n",
              "  <tbody>\n",
              "    <tr>\n",
              "      <th>count</th>\n",
              "      <td>4.420000e+02</td>\n",
              "      <td>4.420000e+02</td>\n",
              "      <td>4.420000e+02</td>\n",
              "      <td>4.420000e+02</td>\n",
              "      <td>4.420000e+02</td>\n",
              "      <td>4.420000e+02</td>\n",
              "      <td>4.420000e+02</td>\n",
              "      <td>4.420000e+02</td>\n",
              "      <td>4.420000e+02</td>\n",
              "      <td>4.420000e+02</td>\n",
              "    </tr>\n",
              "    <tr>\n",
              "      <th>mean</th>\n",
              "      <td>-2.511817e-19</td>\n",
              "      <td>1.230790e-17</td>\n",
              "      <td>-2.245564e-16</td>\n",
              "      <td>-4.797570e-17</td>\n",
              "      <td>-1.381499e-17</td>\n",
              "      <td>3.918434e-17</td>\n",
              "      <td>-5.777179e-18</td>\n",
              "      <td>-9.042540e-18</td>\n",
              "      <td>9.293722e-17</td>\n",
              "      <td>1.130318e-17</td>\n",
              "    </tr>\n",
              "    <tr>\n",
              "      <th>std</th>\n",
              "      <td>4.761905e-02</td>\n",
              "      <td>4.761905e-02</td>\n",
              "      <td>4.761905e-02</td>\n",
              "      <td>4.761905e-02</td>\n",
              "      <td>4.761905e-02</td>\n",
              "      <td>4.761905e-02</td>\n",
              "      <td>4.761905e-02</td>\n",
              "      <td>4.761905e-02</td>\n",
              "      <td>4.761905e-02</td>\n",
              "      <td>4.761905e-02</td>\n",
              "    </tr>\n",
              "    <tr>\n",
              "      <th>min</th>\n",
              "      <td>-1.072256e-01</td>\n",
              "      <td>-4.464164e-02</td>\n",
              "      <td>-9.027530e-02</td>\n",
              "      <td>-1.123988e-01</td>\n",
              "      <td>-1.267807e-01</td>\n",
              "      <td>-1.156131e-01</td>\n",
              "      <td>-1.023071e-01</td>\n",
              "      <td>-7.639450e-02</td>\n",
              "      <td>-1.260971e-01</td>\n",
              "      <td>-1.377672e-01</td>\n",
              "    </tr>\n",
              "    <tr>\n",
              "      <th>25%</th>\n",
              "      <td>-3.729927e-02</td>\n",
              "      <td>-4.464164e-02</td>\n",
              "      <td>-3.422907e-02</td>\n",
              "      <td>-3.665608e-02</td>\n",
              "      <td>-3.424784e-02</td>\n",
              "      <td>-3.035840e-02</td>\n",
              "      <td>-3.511716e-02</td>\n",
              "      <td>-3.949338e-02</td>\n",
              "      <td>-3.324559e-02</td>\n",
              "      <td>-3.317903e-02</td>\n",
              "    </tr>\n",
              "    <tr>\n",
              "      <th>50%</th>\n",
              "      <td>5.383060e-03</td>\n",
              "      <td>-4.464164e-02</td>\n",
              "      <td>-7.283766e-03</td>\n",
              "      <td>-5.670422e-03</td>\n",
              "      <td>-4.320866e-03</td>\n",
              "      <td>-3.819065e-03</td>\n",
              "      <td>-6.584468e-03</td>\n",
              "      <td>-2.592262e-03</td>\n",
              "      <td>-1.947171e-03</td>\n",
              "      <td>-1.077698e-03</td>\n",
              "    </tr>\n",
              "    <tr>\n",
              "      <th>75%</th>\n",
              "      <td>3.807591e-02</td>\n",
              "      <td>5.068012e-02</td>\n",
              "      <td>3.124802e-02</td>\n",
              "      <td>3.564379e-02</td>\n",
              "      <td>2.835801e-02</td>\n",
              "      <td>2.984439e-02</td>\n",
              "      <td>2.931150e-02</td>\n",
              "      <td>3.430886e-02</td>\n",
              "      <td>3.243232e-02</td>\n",
              "      <td>2.791705e-02</td>\n",
              "    </tr>\n",
              "    <tr>\n",
              "      <th>max</th>\n",
              "      <td>1.107267e-01</td>\n",
              "      <td>5.068012e-02</td>\n",
              "      <td>1.705552e-01</td>\n",
              "      <td>1.320436e-01</td>\n",
              "      <td>1.539137e-01</td>\n",
              "      <td>1.987880e-01</td>\n",
              "      <td>1.811791e-01</td>\n",
              "      <td>1.852344e-01</td>\n",
              "      <td>1.335973e-01</td>\n",
              "      <td>1.356118e-01</td>\n",
              "    </tr>\n",
              "  </tbody>\n",
              "</table>\n",
              "</div>"
            ],
            "text/plain": [
              "                age           sex           bmi            bp            s1  \\\n",
              "count  4.420000e+02  4.420000e+02  4.420000e+02  4.420000e+02  4.420000e+02   \n",
              "mean  -2.511817e-19  1.230790e-17 -2.245564e-16 -4.797570e-17 -1.381499e-17   \n",
              "std    4.761905e-02  4.761905e-02  4.761905e-02  4.761905e-02  4.761905e-02   \n",
              "min   -1.072256e-01 -4.464164e-02 -9.027530e-02 -1.123988e-01 -1.267807e-01   \n",
              "25%   -3.729927e-02 -4.464164e-02 -3.422907e-02 -3.665608e-02 -3.424784e-02   \n",
              "50%    5.383060e-03 -4.464164e-02 -7.283766e-03 -5.670422e-03 -4.320866e-03   \n",
              "75%    3.807591e-02  5.068012e-02  3.124802e-02  3.564379e-02  2.835801e-02   \n",
              "max    1.107267e-01  5.068012e-02  1.705552e-01  1.320436e-01  1.539137e-01   \n",
              "\n",
              "                 s2            s3            s4            s5            s6  \n",
              "count  4.420000e+02  4.420000e+02  4.420000e+02  4.420000e+02  4.420000e+02  \n",
              "mean   3.918434e-17 -5.777179e-18 -9.042540e-18  9.293722e-17  1.130318e-17  \n",
              "std    4.761905e-02  4.761905e-02  4.761905e-02  4.761905e-02  4.761905e-02  \n",
              "min   -1.156131e-01 -1.023071e-01 -7.639450e-02 -1.260971e-01 -1.377672e-01  \n",
              "25%   -3.035840e-02 -3.511716e-02 -3.949338e-02 -3.324559e-02 -3.317903e-02  \n",
              "50%   -3.819065e-03 -6.584468e-03 -2.592262e-03 -1.947171e-03 -1.077698e-03  \n",
              "75%    2.984439e-02  2.931150e-02  3.430886e-02  3.243232e-02  2.791705e-02  \n",
              "max    1.987880e-01  1.811791e-01  1.852344e-01  1.335973e-01  1.356118e-01  "
            ]
          },
          "execution_count": 77,
          "metadata": {},
          "output_type": "execute_result"
        }
      ],
      "source": [
        "# all the statistical measures about the dataframe\n",
        "boston_df.describe()"
      ]
    },
    {
      "cell_type": "markdown",
      "metadata": {
        "id": "xmYxG1G-gbUj"
      },
      "source": [
        "Manipulating a DataFrame"
      ]
    },
    {
      "cell_type": "code",
      "execution_count": 78,
      "metadata": {
        "id": "HH35jc2ygPM6"
      },
      "outputs": [],
      "source": [
        "# adding a column to a dataframe\n",
        "boston_df['Price'] = boston_dataset.target"
      ]
    },
    {
      "cell_type": "code",
      "execution_count": 79,
      "metadata": {
        "colab": {
          "base_uri": "https://localhost:8080/",
          "height": 198
        },
        "id": "2P2m_j6Ig4Jz",
        "outputId": "d49a8645-18d4-44a8-9535-7cbcd995f842"
      },
      "outputs": [
        {
          "data": {
            "text/html": [
              "<div>\n",
              "<style scoped>\n",
              "    .dataframe tbody tr th:only-of-type {\n",
              "        vertical-align: middle;\n",
              "    }\n",
              "\n",
              "    .dataframe tbody tr th {\n",
              "        vertical-align: top;\n",
              "    }\n",
              "\n",
              "    .dataframe thead th {\n",
              "        text-align: right;\n",
              "    }\n",
              "</style>\n",
              "<table border=\"1\" class=\"dataframe\">\n",
              "  <thead>\n",
              "    <tr style=\"text-align: right;\">\n",
              "      <th></th>\n",
              "      <th>age</th>\n",
              "      <th>sex</th>\n",
              "      <th>bmi</th>\n",
              "      <th>bp</th>\n",
              "      <th>s1</th>\n",
              "      <th>s2</th>\n",
              "      <th>s3</th>\n",
              "      <th>s4</th>\n",
              "      <th>s5</th>\n",
              "      <th>s6</th>\n",
              "      <th>Price</th>\n",
              "    </tr>\n",
              "  </thead>\n",
              "  <tbody>\n",
              "    <tr>\n",
              "      <th>0</th>\n",
              "      <td>0.038076</td>\n",
              "      <td>0.050680</td>\n",
              "      <td>0.061696</td>\n",
              "      <td>0.021872</td>\n",
              "      <td>-0.044223</td>\n",
              "      <td>-0.034821</td>\n",
              "      <td>-0.043401</td>\n",
              "      <td>-0.002592</td>\n",
              "      <td>0.019907</td>\n",
              "      <td>-0.017646</td>\n",
              "      <td>151.0</td>\n",
              "    </tr>\n",
              "    <tr>\n",
              "      <th>1</th>\n",
              "      <td>-0.001882</td>\n",
              "      <td>-0.044642</td>\n",
              "      <td>-0.051474</td>\n",
              "      <td>-0.026328</td>\n",
              "      <td>-0.008449</td>\n",
              "      <td>-0.019163</td>\n",
              "      <td>0.074412</td>\n",
              "      <td>-0.039493</td>\n",
              "      <td>-0.068332</td>\n",
              "      <td>-0.092204</td>\n",
              "      <td>75.0</td>\n",
              "    </tr>\n",
              "    <tr>\n",
              "      <th>2</th>\n",
              "      <td>0.085299</td>\n",
              "      <td>0.050680</td>\n",
              "      <td>0.044451</td>\n",
              "      <td>-0.005670</td>\n",
              "      <td>-0.045599</td>\n",
              "      <td>-0.034194</td>\n",
              "      <td>-0.032356</td>\n",
              "      <td>-0.002592</td>\n",
              "      <td>0.002861</td>\n",
              "      <td>-0.025930</td>\n",
              "      <td>141.0</td>\n",
              "    </tr>\n",
              "    <tr>\n",
              "      <th>3</th>\n",
              "      <td>-0.089063</td>\n",
              "      <td>-0.044642</td>\n",
              "      <td>-0.011595</td>\n",
              "      <td>-0.036656</td>\n",
              "      <td>0.012191</td>\n",
              "      <td>0.024991</td>\n",
              "      <td>-0.036038</td>\n",
              "      <td>0.034309</td>\n",
              "      <td>0.022688</td>\n",
              "      <td>-0.009362</td>\n",
              "      <td>206.0</td>\n",
              "    </tr>\n",
              "    <tr>\n",
              "      <th>4</th>\n",
              "      <td>0.005383</td>\n",
              "      <td>-0.044642</td>\n",
              "      <td>-0.036385</td>\n",
              "      <td>0.021872</td>\n",
              "      <td>0.003935</td>\n",
              "      <td>0.015596</td>\n",
              "      <td>0.008142</td>\n",
              "      <td>-0.002592</td>\n",
              "      <td>-0.031988</td>\n",
              "      <td>-0.046641</td>\n",
              "      <td>135.0</td>\n",
              "    </tr>\n",
              "  </tbody>\n",
              "</table>\n",
              "</div>"
            ],
            "text/plain": [
              "        age       sex       bmi        bp        s1        s2        s3  \\\n",
              "0  0.038076  0.050680  0.061696  0.021872 -0.044223 -0.034821 -0.043401   \n",
              "1 -0.001882 -0.044642 -0.051474 -0.026328 -0.008449 -0.019163  0.074412   \n",
              "2  0.085299  0.050680  0.044451 -0.005670 -0.045599 -0.034194 -0.032356   \n",
              "3 -0.089063 -0.044642 -0.011595 -0.036656  0.012191  0.024991 -0.036038   \n",
              "4  0.005383 -0.044642 -0.036385  0.021872  0.003935  0.015596  0.008142   \n",
              "\n",
              "         s4        s5        s6  Price  \n",
              "0 -0.002592  0.019907 -0.017646  151.0  \n",
              "1 -0.039493 -0.068332 -0.092204   75.0  \n",
              "2 -0.002592  0.002861 -0.025930  141.0  \n",
              "3  0.034309  0.022688 -0.009362  206.0  \n",
              "4 -0.002592 -0.031988 -0.046641  135.0  "
            ]
          },
          "execution_count": 79,
          "metadata": {},
          "output_type": "execute_result"
        }
      ],
      "source": [
        "boston_df.head()"
      ]
    },
    {
      "cell_type": "code",
      "execution_count": 80,
      "metadata": {
        "colab": {
          "base_uri": "https://localhost:8080/",
          "height": 407
        },
        "id": "jzr7jCL_g6h7",
        "outputId": "d7804a0f-adf9-411d-e209-1cdad147cd9f"
      },
      "outputs": [
        {
          "data": {
            "text/html": [
              "<div>\n",
              "<style scoped>\n",
              "    .dataframe tbody tr th:only-of-type {\n",
              "        vertical-align: middle;\n",
              "    }\n",
              "\n",
              "    .dataframe tbody tr th {\n",
              "        vertical-align: top;\n",
              "    }\n",
              "\n",
              "    .dataframe thead th {\n",
              "        text-align: right;\n",
              "    }\n",
              "</style>\n",
              "<table border=\"1\" class=\"dataframe\">\n",
              "  <thead>\n",
              "    <tr style=\"text-align: right;\">\n",
              "      <th></th>\n",
              "      <th>age</th>\n",
              "      <th>sex</th>\n",
              "      <th>bmi</th>\n",
              "      <th>bp</th>\n",
              "      <th>s1</th>\n",
              "      <th>s2</th>\n",
              "      <th>s3</th>\n",
              "      <th>s4</th>\n",
              "      <th>s5</th>\n",
              "      <th>s6</th>\n",
              "      <th>Price</th>\n",
              "    </tr>\n",
              "  </thead>\n",
              "  <tbody>\n",
              "    <tr>\n",
              "      <th>1</th>\n",
              "      <td>-0.001882</td>\n",
              "      <td>-0.044642</td>\n",
              "      <td>-0.051474</td>\n",
              "      <td>-0.026328</td>\n",
              "      <td>-0.008449</td>\n",
              "      <td>-0.019163</td>\n",
              "      <td>0.074412</td>\n",
              "      <td>-0.039493</td>\n",
              "      <td>-0.068332</td>\n",
              "      <td>-0.092204</td>\n",
              "      <td>75.0</td>\n",
              "    </tr>\n",
              "    <tr>\n",
              "      <th>2</th>\n",
              "      <td>0.085299</td>\n",
              "      <td>0.050680</td>\n",
              "      <td>0.044451</td>\n",
              "      <td>-0.005670</td>\n",
              "      <td>-0.045599</td>\n",
              "      <td>-0.034194</td>\n",
              "      <td>-0.032356</td>\n",
              "      <td>-0.002592</td>\n",
              "      <td>0.002861</td>\n",
              "      <td>-0.025930</td>\n",
              "      <td>141.0</td>\n",
              "    </tr>\n",
              "    <tr>\n",
              "      <th>3</th>\n",
              "      <td>-0.089063</td>\n",
              "      <td>-0.044642</td>\n",
              "      <td>-0.011595</td>\n",
              "      <td>-0.036656</td>\n",
              "      <td>0.012191</td>\n",
              "      <td>0.024991</td>\n",
              "      <td>-0.036038</td>\n",
              "      <td>0.034309</td>\n",
              "      <td>0.022688</td>\n",
              "      <td>-0.009362</td>\n",
              "      <td>206.0</td>\n",
              "    </tr>\n",
              "    <tr>\n",
              "      <th>4</th>\n",
              "      <td>0.005383</td>\n",
              "      <td>-0.044642</td>\n",
              "      <td>-0.036385</td>\n",
              "      <td>0.021872</td>\n",
              "      <td>0.003935</td>\n",
              "      <td>0.015596</td>\n",
              "      <td>0.008142</td>\n",
              "      <td>-0.002592</td>\n",
              "      <td>-0.031988</td>\n",
              "      <td>-0.046641</td>\n",
              "      <td>135.0</td>\n",
              "    </tr>\n",
              "    <tr>\n",
              "      <th>5</th>\n",
              "      <td>-0.092695</td>\n",
              "      <td>-0.044642</td>\n",
              "      <td>-0.040696</td>\n",
              "      <td>-0.019442</td>\n",
              "      <td>-0.068991</td>\n",
              "      <td>-0.079288</td>\n",
              "      <td>0.041277</td>\n",
              "      <td>-0.076395</td>\n",
              "      <td>-0.041176</td>\n",
              "      <td>-0.096346</td>\n",
              "      <td>97.0</td>\n",
              "    </tr>\n",
              "    <tr>\n",
              "      <th>...</th>\n",
              "      <td>...</td>\n",
              "      <td>...</td>\n",
              "      <td>...</td>\n",
              "      <td>...</td>\n",
              "      <td>...</td>\n",
              "      <td>...</td>\n",
              "      <td>...</td>\n",
              "      <td>...</td>\n",
              "      <td>...</td>\n",
              "      <td>...</td>\n",
              "      <td>...</td>\n",
              "    </tr>\n",
              "    <tr>\n",
              "      <th>437</th>\n",
              "      <td>0.041708</td>\n",
              "      <td>0.050680</td>\n",
              "      <td>0.019662</td>\n",
              "      <td>0.059744</td>\n",
              "      <td>-0.005697</td>\n",
              "      <td>-0.002566</td>\n",
              "      <td>-0.028674</td>\n",
              "      <td>-0.002592</td>\n",
              "      <td>0.031193</td>\n",
              "      <td>0.007207</td>\n",
              "      <td>178.0</td>\n",
              "    </tr>\n",
              "    <tr>\n",
              "      <th>438</th>\n",
              "      <td>-0.005515</td>\n",
              "      <td>0.050680</td>\n",
              "      <td>-0.015906</td>\n",
              "      <td>-0.067642</td>\n",
              "      <td>0.049341</td>\n",
              "      <td>0.079165</td>\n",
              "      <td>-0.028674</td>\n",
              "      <td>0.034309</td>\n",
              "      <td>-0.018114</td>\n",
              "      <td>0.044485</td>\n",
              "      <td>104.0</td>\n",
              "    </tr>\n",
              "    <tr>\n",
              "      <th>439</th>\n",
              "      <td>0.041708</td>\n",
              "      <td>0.050680</td>\n",
              "      <td>-0.015906</td>\n",
              "      <td>0.017293</td>\n",
              "      <td>-0.037344</td>\n",
              "      <td>-0.013840</td>\n",
              "      <td>-0.024993</td>\n",
              "      <td>-0.011080</td>\n",
              "      <td>-0.046883</td>\n",
              "      <td>0.015491</td>\n",
              "      <td>132.0</td>\n",
              "    </tr>\n",
              "    <tr>\n",
              "      <th>440</th>\n",
              "      <td>-0.045472</td>\n",
              "      <td>-0.044642</td>\n",
              "      <td>0.039062</td>\n",
              "      <td>0.001215</td>\n",
              "      <td>0.016318</td>\n",
              "      <td>0.015283</td>\n",
              "      <td>-0.028674</td>\n",
              "      <td>0.026560</td>\n",
              "      <td>0.044529</td>\n",
              "      <td>-0.025930</td>\n",
              "      <td>220.0</td>\n",
              "    </tr>\n",
              "    <tr>\n",
              "      <th>441</th>\n",
              "      <td>-0.045472</td>\n",
              "      <td>-0.044642</td>\n",
              "      <td>-0.073030</td>\n",
              "      <td>-0.081413</td>\n",
              "      <td>0.083740</td>\n",
              "      <td>0.027809</td>\n",
              "      <td>0.173816</td>\n",
              "      <td>-0.039493</td>\n",
              "      <td>-0.004222</td>\n",
              "      <td>0.003064</td>\n",
              "      <td>57.0</td>\n",
              "    </tr>\n",
              "  </tbody>\n",
              "</table>\n",
              "<p>441 rows × 11 columns</p>\n",
              "</div>"
            ],
            "text/plain": [
              "          age       sex       bmi        bp        s1        s2        s3  \\\n",
              "1   -0.001882 -0.044642 -0.051474 -0.026328 -0.008449 -0.019163  0.074412   \n",
              "2    0.085299  0.050680  0.044451 -0.005670 -0.045599 -0.034194 -0.032356   \n",
              "3   -0.089063 -0.044642 -0.011595 -0.036656  0.012191  0.024991 -0.036038   \n",
              "4    0.005383 -0.044642 -0.036385  0.021872  0.003935  0.015596  0.008142   \n",
              "5   -0.092695 -0.044642 -0.040696 -0.019442 -0.068991 -0.079288  0.041277   \n",
              "..        ...       ...       ...       ...       ...       ...       ...   \n",
              "437  0.041708  0.050680  0.019662  0.059744 -0.005697 -0.002566 -0.028674   \n",
              "438 -0.005515  0.050680 -0.015906 -0.067642  0.049341  0.079165 -0.028674   \n",
              "439  0.041708  0.050680 -0.015906  0.017293 -0.037344 -0.013840 -0.024993   \n",
              "440 -0.045472 -0.044642  0.039062  0.001215  0.016318  0.015283 -0.028674   \n",
              "441 -0.045472 -0.044642 -0.073030 -0.081413  0.083740  0.027809  0.173816   \n",
              "\n",
              "           s4        s5        s6  Price  \n",
              "1   -0.039493 -0.068332 -0.092204   75.0  \n",
              "2   -0.002592  0.002861 -0.025930  141.0  \n",
              "3    0.034309  0.022688 -0.009362  206.0  \n",
              "4   -0.002592 -0.031988 -0.046641  135.0  \n",
              "5   -0.076395 -0.041176 -0.096346   97.0  \n",
              "..        ...       ...       ...    ...  \n",
              "437 -0.002592  0.031193  0.007207  178.0  \n",
              "438  0.034309 -0.018114  0.044485  104.0  \n",
              "439 -0.011080 -0.046883  0.015491  132.0  \n",
              "440  0.026560  0.044529 -0.025930  220.0  \n",
              "441 -0.039493 -0.004222  0.003064   57.0  \n",
              "\n",
              "[441 rows x 11 columns]"
            ]
          },
          "execution_count": 80,
          "metadata": {},
          "output_type": "execute_result"
        }
      ],
      "source": [
        "# removing a row\n",
        "boston_df.drop(index=0, axis=0)"
      ]
    },
    {
      "cell_type": "code",
      "execution_count": 81,
      "metadata": {
        "colab": {
          "base_uri": "https://localhost:8080/",
          "height": 407
        },
        "id": "nmNXnQj4hQz7",
        "outputId": "6aca0775-f684-4e74-eeee-28d5c3bbc0e6"
      },
      "outputs": [
        {
          "data": {
            "text/html": [
              "<div>\n",
              "<style scoped>\n",
              "    .dataframe tbody tr th:only-of-type {\n",
              "        vertical-align: middle;\n",
              "    }\n",
              "\n",
              "    .dataframe tbody tr th {\n",
              "        vertical-align: top;\n",
              "    }\n",
              "\n",
              "    .dataframe thead th {\n",
              "        text-align: right;\n",
              "    }\n",
              "</style>\n",
              "<table border=\"1\" class=\"dataframe\">\n",
              "  <thead>\n",
              "    <tr style=\"text-align: right;\">\n",
              "      <th></th>\n",
              "      <th>age</th>\n",
              "      <th>sex</th>\n",
              "      <th>bmi</th>\n",
              "      <th>bp</th>\n",
              "      <th>s1</th>\n",
              "      <th>s2</th>\n",
              "      <th>s3</th>\n",
              "      <th>s4</th>\n",
              "      <th>s5</th>\n",
              "      <th>Price</th>\n",
              "    </tr>\n",
              "  </thead>\n",
              "  <tbody>\n",
              "    <tr>\n",
              "      <th>0</th>\n",
              "      <td>0.038076</td>\n",
              "      <td>0.050680</td>\n",
              "      <td>0.061696</td>\n",
              "      <td>0.021872</td>\n",
              "      <td>-0.044223</td>\n",
              "      <td>-0.034821</td>\n",
              "      <td>-0.043401</td>\n",
              "      <td>-0.002592</td>\n",
              "      <td>0.019907</td>\n",
              "      <td>151.0</td>\n",
              "    </tr>\n",
              "    <tr>\n",
              "      <th>1</th>\n",
              "      <td>-0.001882</td>\n",
              "      <td>-0.044642</td>\n",
              "      <td>-0.051474</td>\n",
              "      <td>-0.026328</td>\n",
              "      <td>-0.008449</td>\n",
              "      <td>-0.019163</td>\n",
              "      <td>0.074412</td>\n",
              "      <td>-0.039493</td>\n",
              "      <td>-0.068332</td>\n",
              "      <td>75.0</td>\n",
              "    </tr>\n",
              "    <tr>\n",
              "      <th>2</th>\n",
              "      <td>0.085299</td>\n",
              "      <td>0.050680</td>\n",
              "      <td>0.044451</td>\n",
              "      <td>-0.005670</td>\n",
              "      <td>-0.045599</td>\n",
              "      <td>-0.034194</td>\n",
              "      <td>-0.032356</td>\n",
              "      <td>-0.002592</td>\n",
              "      <td>0.002861</td>\n",
              "      <td>141.0</td>\n",
              "    </tr>\n",
              "    <tr>\n",
              "      <th>3</th>\n",
              "      <td>-0.089063</td>\n",
              "      <td>-0.044642</td>\n",
              "      <td>-0.011595</td>\n",
              "      <td>-0.036656</td>\n",
              "      <td>0.012191</td>\n",
              "      <td>0.024991</td>\n",
              "      <td>-0.036038</td>\n",
              "      <td>0.034309</td>\n",
              "      <td>0.022688</td>\n",
              "      <td>206.0</td>\n",
              "    </tr>\n",
              "    <tr>\n",
              "      <th>4</th>\n",
              "      <td>0.005383</td>\n",
              "      <td>-0.044642</td>\n",
              "      <td>-0.036385</td>\n",
              "      <td>0.021872</td>\n",
              "      <td>0.003935</td>\n",
              "      <td>0.015596</td>\n",
              "      <td>0.008142</td>\n",
              "      <td>-0.002592</td>\n",
              "      <td>-0.031988</td>\n",
              "      <td>135.0</td>\n",
              "    </tr>\n",
              "    <tr>\n",
              "      <th>...</th>\n",
              "      <td>...</td>\n",
              "      <td>...</td>\n",
              "      <td>...</td>\n",
              "      <td>...</td>\n",
              "      <td>...</td>\n",
              "      <td>...</td>\n",
              "      <td>...</td>\n",
              "      <td>...</td>\n",
              "      <td>...</td>\n",
              "      <td>...</td>\n",
              "    </tr>\n",
              "    <tr>\n",
              "      <th>437</th>\n",
              "      <td>0.041708</td>\n",
              "      <td>0.050680</td>\n",
              "      <td>0.019662</td>\n",
              "      <td>0.059744</td>\n",
              "      <td>-0.005697</td>\n",
              "      <td>-0.002566</td>\n",
              "      <td>-0.028674</td>\n",
              "      <td>-0.002592</td>\n",
              "      <td>0.031193</td>\n",
              "      <td>178.0</td>\n",
              "    </tr>\n",
              "    <tr>\n",
              "      <th>438</th>\n",
              "      <td>-0.005515</td>\n",
              "      <td>0.050680</td>\n",
              "      <td>-0.015906</td>\n",
              "      <td>-0.067642</td>\n",
              "      <td>0.049341</td>\n",
              "      <td>0.079165</td>\n",
              "      <td>-0.028674</td>\n",
              "      <td>0.034309</td>\n",
              "      <td>-0.018114</td>\n",
              "      <td>104.0</td>\n",
              "    </tr>\n",
              "    <tr>\n",
              "      <th>439</th>\n",
              "      <td>0.041708</td>\n",
              "      <td>0.050680</td>\n",
              "      <td>-0.015906</td>\n",
              "      <td>0.017293</td>\n",
              "      <td>-0.037344</td>\n",
              "      <td>-0.013840</td>\n",
              "      <td>-0.024993</td>\n",
              "      <td>-0.011080</td>\n",
              "      <td>-0.046883</td>\n",
              "      <td>132.0</td>\n",
              "    </tr>\n",
              "    <tr>\n",
              "      <th>440</th>\n",
              "      <td>-0.045472</td>\n",
              "      <td>-0.044642</td>\n",
              "      <td>0.039062</td>\n",
              "      <td>0.001215</td>\n",
              "      <td>0.016318</td>\n",
              "      <td>0.015283</td>\n",
              "      <td>-0.028674</td>\n",
              "      <td>0.026560</td>\n",
              "      <td>0.044529</td>\n",
              "      <td>220.0</td>\n",
              "    </tr>\n",
              "    <tr>\n",
              "      <th>441</th>\n",
              "      <td>-0.045472</td>\n",
              "      <td>-0.044642</td>\n",
              "      <td>-0.073030</td>\n",
              "      <td>-0.081413</td>\n",
              "      <td>0.083740</td>\n",
              "      <td>0.027809</td>\n",
              "      <td>0.173816</td>\n",
              "      <td>-0.039493</td>\n",
              "      <td>-0.004222</td>\n",
              "      <td>57.0</td>\n",
              "    </tr>\n",
              "  </tbody>\n",
              "</table>\n",
              "<p>442 rows × 10 columns</p>\n",
              "</div>"
            ],
            "text/plain": [
              "          age       sex       bmi        bp        s1        s2        s3  \\\n",
              "0    0.038076  0.050680  0.061696  0.021872 -0.044223 -0.034821 -0.043401   \n",
              "1   -0.001882 -0.044642 -0.051474 -0.026328 -0.008449 -0.019163  0.074412   \n",
              "2    0.085299  0.050680  0.044451 -0.005670 -0.045599 -0.034194 -0.032356   \n",
              "3   -0.089063 -0.044642 -0.011595 -0.036656  0.012191  0.024991 -0.036038   \n",
              "4    0.005383 -0.044642 -0.036385  0.021872  0.003935  0.015596  0.008142   \n",
              "..        ...       ...       ...       ...       ...       ...       ...   \n",
              "437  0.041708  0.050680  0.019662  0.059744 -0.005697 -0.002566 -0.028674   \n",
              "438 -0.005515  0.050680 -0.015906 -0.067642  0.049341  0.079165 -0.028674   \n",
              "439  0.041708  0.050680 -0.015906  0.017293 -0.037344 -0.013840 -0.024993   \n",
              "440 -0.045472 -0.044642  0.039062  0.001215  0.016318  0.015283 -0.028674   \n",
              "441 -0.045472 -0.044642 -0.073030 -0.081413  0.083740  0.027809  0.173816   \n",
              "\n",
              "           s4        s5  Price  \n",
              "0   -0.002592  0.019907  151.0  \n",
              "1   -0.039493 -0.068332   75.0  \n",
              "2   -0.002592  0.002861  141.0  \n",
              "3    0.034309  0.022688  206.0  \n",
              "4   -0.002592 -0.031988  135.0  \n",
              "..        ...       ...    ...  \n",
              "437 -0.002592  0.031193  178.0  \n",
              "438  0.034309 -0.018114  104.0  \n",
              "439 -0.011080 -0.046883  132.0  \n",
              "440  0.026560  0.044529  220.0  \n",
              "441 -0.039493 -0.004222   57.0  \n",
              "\n",
              "[442 rows x 10 columns]"
            ]
          },
          "execution_count": 81,
          "metadata": {},
          "output_type": "execute_result"
        }
      ],
      "source": [
        "# drop a column\n",
        "boston_df.drop(columns='s6', axis=1)"
      ]
    },
    {
      "cell_type": "code",
      "execution_count": 82,
      "metadata": {
        "colab": {
          "base_uri": "https://localhost:8080/"
        },
        "id": "KhwJylZLhgN1",
        "outputId": "8d46fc0a-9995-43f4-e1a7-43f0d941e54c"
      },
      "outputs": [
        {
          "data": {
            "text/plain": [
              "age        0.085299\n",
              "sex        0.050680\n",
              "bmi        0.044451\n",
              "bp        -0.005670\n",
              "s1        -0.045599\n",
              "s2        -0.034194\n",
              "s3        -0.032356\n",
              "s4        -0.002592\n",
              "s5         0.002861\n",
              "s6        -0.025930\n",
              "Price    141.000000\n",
              "Name: 2, dtype: float64"
            ]
          },
          "execution_count": 82,
          "metadata": {},
          "output_type": "execute_result"
        }
      ],
      "source": [
        "# locating a row using the index value\n",
        "boston_df.iloc[2]"
      ]
    },
    {
      "cell_type": "code",
      "execution_count": 83,
      "metadata": {
        "colab": {
          "base_uri": "https://localhost:8080/"
        },
        "id": "O0eNKQl5hzro",
        "outputId": "efb2eb3f-d135-4433-e543-aa9336c386b3"
      },
      "outputs": [
        {
          "name": "stdout",
          "output_type": "stream",
          "text": [
            "0      0.038076\n",
            "1     -0.001882\n",
            "2      0.085299\n",
            "3     -0.089063\n",
            "4      0.005383\n",
            "         ...   \n",
            "437    0.041708\n",
            "438   -0.005515\n",
            "439    0.041708\n",
            "440   -0.045472\n",
            "441   -0.045472\n",
            "Name: age, Length: 442, dtype: float64\n",
            "0      0.050680\n",
            "1     -0.044642\n",
            "2      0.050680\n",
            "3     -0.044642\n",
            "4     -0.044642\n",
            "         ...   \n",
            "437    0.050680\n",
            "438    0.050680\n",
            "439    0.050680\n",
            "440   -0.044642\n",
            "441   -0.044642\n",
            "Name: sex, Length: 442, dtype: float64\n",
            "0      0.061696\n",
            "1     -0.051474\n",
            "2      0.044451\n",
            "3     -0.011595\n",
            "4     -0.036385\n",
            "         ...   \n",
            "437    0.019662\n",
            "438   -0.015906\n",
            "439   -0.015906\n",
            "440    0.039062\n",
            "441   -0.073030\n",
            "Name: bmi, Length: 442, dtype: float64\n",
            "0      151.0\n",
            "1       75.0\n",
            "2      141.0\n",
            "3      206.0\n",
            "4      135.0\n",
            "       ...  \n",
            "437    178.0\n",
            "438    104.0\n",
            "439    132.0\n",
            "440    220.0\n",
            "441     57.0\n",
            "Name: Price, Length: 442, dtype: float64\n"
          ]
        }
      ],
      "source": [
        "# locating a particular column\n",
        "print(boston_df.iloc[:,0])  # first column\n",
        "print(boston_df.iloc[:,1])  # second column\n",
        "print(boston_df.iloc[:,2])  # third column\n",
        "print(boston_df.iloc[:,-1]) # last column"
      ]
    },
    {
      "cell_type": "markdown",
      "metadata": {
        "id": "xQpBBW6RiryR"
      },
      "source": [
        "Correlation:\n",
        "\n",
        "1. Positive Correlation\n",
        "2. Negative Correlation"
      ]
    },
    {
      "cell_type": "code",
      "execution_count": 84,
      "metadata": {
        "colab": {
          "base_uri": "https://localhost:8080/",
          "height": 488
        },
        "id": "ibKPEPahig7I",
        "outputId": "81b15007-f575-4226-cff7-140b6db0adfc"
      },
      "outputs": [
        {
          "data": {
            "text/html": [
              "<div>\n",
              "<style scoped>\n",
              "    .dataframe tbody tr th:only-of-type {\n",
              "        vertical-align: middle;\n",
              "    }\n",
              "\n",
              "    .dataframe tbody tr th {\n",
              "        vertical-align: top;\n",
              "    }\n",
              "\n",
              "    .dataframe thead th {\n",
              "        text-align: right;\n",
              "    }\n",
              "</style>\n",
              "<table border=\"1\" class=\"dataframe\">\n",
              "  <thead>\n",
              "    <tr style=\"text-align: right;\">\n",
              "      <th></th>\n",
              "      <th>age</th>\n",
              "      <th>sex</th>\n",
              "      <th>bmi</th>\n",
              "      <th>bp</th>\n",
              "      <th>s1</th>\n",
              "      <th>s2</th>\n",
              "      <th>s3</th>\n",
              "      <th>s4</th>\n",
              "      <th>s5</th>\n",
              "      <th>s6</th>\n",
              "      <th>Price</th>\n",
              "    </tr>\n",
              "  </thead>\n",
              "  <tbody>\n",
              "    <tr>\n",
              "      <th>age</th>\n",
              "      <td>1.000000</td>\n",
              "      <td>0.173737</td>\n",
              "      <td>0.185085</td>\n",
              "      <td>0.335428</td>\n",
              "      <td>0.260061</td>\n",
              "      <td>0.219243</td>\n",
              "      <td>-0.075181</td>\n",
              "      <td>0.203841</td>\n",
              "      <td>0.270774</td>\n",
              "      <td>0.301731</td>\n",
              "      <td>0.187889</td>\n",
              "    </tr>\n",
              "    <tr>\n",
              "      <th>sex</th>\n",
              "      <td>0.173737</td>\n",
              "      <td>1.000000</td>\n",
              "      <td>0.088161</td>\n",
              "      <td>0.241010</td>\n",
              "      <td>0.035277</td>\n",
              "      <td>0.142637</td>\n",
              "      <td>-0.379090</td>\n",
              "      <td>0.332115</td>\n",
              "      <td>0.149916</td>\n",
              "      <td>0.208133</td>\n",
              "      <td>0.043062</td>\n",
              "    </tr>\n",
              "    <tr>\n",
              "      <th>bmi</th>\n",
              "      <td>0.185085</td>\n",
              "      <td>0.088161</td>\n",
              "      <td>1.000000</td>\n",
              "      <td>0.395411</td>\n",
              "      <td>0.249777</td>\n",
              "      <td>0.261170</td>\n",
              "      <td>-0.366811</td>\n",
              "      <td>0.413807</td>\n",
              "      <td>0.446157</td>\n",
              "      <td>0.388680</td>\n",
              "      <td>0.586450</td>\n",
              "    </tr>\n",
              "    <tr>\n",
              "      <th>bp</th>\n",
              "      <td>0.335428</td>\n",
              "      <td>0.241010</td>\n",
              "      <td>0.395411</td>\n",
              "      <td>1.000000</td>\n",
              "      <td>0.242464</td>\n",
              "      <td>0.185548</td>\n",
              "      <td>-0.178762</td>\n",
              "      <td>0.257650</td>\n",
              "      <td>0.393480</td>\n",
              "      <td>0.390430</td>\n",
              "      <td>0.441482</td>\n",
              "    </tr>\n",
              "    <tr>\n",
              "      <th>s1</th>\n",
              "      <td>0.260061</td>\n",
              "      <td>0.035277</td>\n",
              "      <td>0.249777</td>\n",
              "      <td>0.242464</td>\n",
              "      <td>1.000000</td>\n",
              "      <td>0.896663</td>\n",
              "      <td>0.051519</td>\n",
              "      <td>0.542207</td>\n",
              "      <td>0.515503</td>\n",
              "      <td>0.325717</td>\n",
              "      <td>0.212022</td>\n",
              "    </tr>\n",
              "    <tr>\n",
              "      <th>s2</th>\n",
              "      <td>0.219243</td>\n",
              "      <td>0.142637</td>\n",
              "      <td>0.261170</td>\n",
              "      <td>0.185548</td>\n",
              "      <td>0.896663</td>\n",
              "      <td>1.000000</td>\n",
              "      <td>-0.196455</td>\n",
              "      <td>0.659817</td>\n",
              "      <td>0.318357</td>\n",
              "      <td>0.290600</td>\n",
              "      <td>0.174054</td>\n",
              "    </tr>\n",
              "    <tr>\n",
              "      <th>s3</th>\n",
              "      <td>-0.075181</td>\n",
              "      <td>-0.379090</td>\n",
              "      <td>-0.366811</td>\n",
              "      <td>-0.178762</td>\n",
              "      <td>0.051519</td>\n",
              "      <td>-0.196455</td>\n",
              "      <td>1.000000</td>\n",
              "      <td>-0.738493</td>\n",
              "      <td>-0.398577</td>\n",
              "      <td>-0.273697</td>\n",
              "      <td>-0.394789</td>\n",
              "    </tr>\n",
              "    <tr>\n",
              "      <th>s4</th>\n",
              "      <td>0.203841</td>\n",
              "      <td>0.332115</td>\n",
              "      <td>0.413807</td>\n",
              "      <td>0.257650</td>\n",
              "      <td>0.542207</td>\n",
              "      <td>0.659817</td>\n",
              "      <td>-0.738493</td>\n",
              "      <td>1.000000</td>\n",
              "      <td>0.617859</td>\n",
              "      <td>0.417212</td>\n",
              "      <td>0.430453</td>\n",
              "    </tr>\n",
              "    <tr>\n",
              "      <th>s5</th>\n",
              "      <td>0.270774</td>\n",
              "      <td>0.149916</td>\n",
              "      <td>0.446157</td>\n",
              "      <td>0.393480</td>\n",
              "      <td>0.515503</td>\n",
              "      <td>0.318357</td>\n",
              "      <td>-0.398577</td>\n",
              "      <td>0.617859</td>\n",
              "      <td>1.000000</td>\n",
              "      <td>0.464669</td>\n",
              "      <td>0.565883</td>\n",
              "    </tr>\n",
              "    <tr>\n",
              "      <th>s6</th>\n",
              "      <td>0.301731</td>\n",
              "      <td>0.208133</td>\n",
              "      <td>0.388680</td>\n",
              "      <td>0.390430</td>\n",
              "      <td>0.325717</td>\n",
              "      <td>0.290600</td>\n",
              "      <td>-0.273697</td>\n",
              "      <td>0.417212</td>\n",
              "      <td>0.464669</td>\n",
              "      <td>1.000000</td>\n",
              "      <td>0.382483</td>\n",
              "    </tr>\n",
              "    <tr>\n",
              "      <th>Price</th>\n",
              "      <td>0.187889</td>\n",
              "      <td>0.043062</td>\n",
              "      <td>0.586450</td>\n",
              "      <td>0.441482</td>\n",
              "      <td>0.212022</td>\n",
              "      <td>0.174054</td>\n",
              "      <td>-0.394789</td>\n",
              "      <td>0.430453</td>\n",
              "      <td>0.565883</td>\n",
              "      <td>0.382483</td>\n",
              "      <td>1.000000</td>\n",
              "    </tr>\n",
              "  </tbody>\n",
              "</table>\n",
              "</div>"
            ],
            "text/plain": [
              "            age       sex       bmi        bp        s1        s2        s3  \\\n",
              "age    1.000000  0.173737  0.185085  0.335428  0.260061  0.219243 -0.075181   \n",
              "sex    0.173737  1.000000  0.088161  0.241010  0.035277  0.142637 -0.379090   \n",
              "bmi    0.185085  0.088161  1.000000  0.395411  0.249777  0.261170 -0.366811   \n",
              "bp     0.335428  0.241010  0.395411  1.000000  0.242464  0.185548 -0.178762   \n",
              "s1     0.260061  0.035277  0.249777  0.242464  1.000000  0.896663  0.051519   \n",
              "s2     0.219243  0.142637  0.261170  0.185548  0.896663  1.000000 -0.196455   \n",
              "s3    -0.075181 -0.379090 -0.366811 -0.178762  0.051519 -0.196455  1.000000   \n",
              "s4     0.203841  0.332115  0.413807  0.257650  0.542207  0.659817 -0.738493   \n",
              "s5     0.270774  0.149916  0.446157  0.393480  0.515503  0.318357 -0.398577   \n",
              "s6     0.301731  0.208133  0.388680  0.390430  0.325717  0.290600 -0.273697   \n",
              "Price  0.187889  0.043062  0.586450  0.441482  0.212022  0.174054 -0.394789   \n",
              "\n",
              "             s4        s5        s6     Price  \n",
              "age    0.203841  0.270774  0.301731  0.187889  \n",
              "sex    0.332115  0.149916  0.208133  0.043062  \n",
              "bmi    0.413807  0.446157  0.388680  0.586450  \n",
              "bp     0.257650  0.393480  0.390430  0.441482  \n",
              "s1     0.542207  0.515503  0.325717  0.212022  \n",
              "s2     0.659817  0.318357  0.290600  0.174054  \n",
              "s3    -0.738493 -0.398577 -0.273697 -0.394789  \n",
              "s4     1.000000  0.617859  0.417212  0.430453  \n",
              "s5     0.617859  1.000000  0.464669  0.565883  \n",
              "s6     0.417212  0.464669  1.000000  0.382483  \n",
              "Price  0.430453  0.565883  0.382483  1.000000  "
            ]
          },
          "execution_count": 84,
          "metadata": {},
          "output_type": "execute_result"
        }
      ],
      "source": [
        "boston_df.corr()"
      ]
    },
    {
      "cell_type": "code",
      "execution_count": null,
      "metadata": {
        "id": "sTxKF0I7jGyd"
      },
      "outputs": [],
      "source": []
    }
  ],
  "metadata": {
    "colab": {
      "collapsed_sections": [],
      "provenance": []
    },
    "kernelspec": {
      "display_name": "Python 3",
      "name": "python3"
    },
    "language_info": {
      "codemirror_mode": {
        "name": "ipython",
        "version": 3
      },
      "file_extension": ".py",
      "mimetype": "text/x-python",
      "name": "python",
      "nbconvert_exporter": "python",
      "pygments_lexer": "ipython3",
      "version": "3.11.4"
    }
  },
  "nbformat": 4,
  "nbformat_minor": 0
}
